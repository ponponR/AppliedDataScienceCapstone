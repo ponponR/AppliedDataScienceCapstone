{
  "metadata": {
    "kernelspec": {
      "name": "python",
      "display_name": "Python (Pyodide)",
      "language": "python"
    },
    "language_info": {
      "codemirror_mode": {
        "name": "python",
        "version": 3
      },
      "file_extension": ".py",
      "mimetype": "text/x-python",
      "name": "python",
      "nbconvert_exporter": "python",
      "pygments_lexer": "ipython3",
      "version": "3.8"
    },
    "prev_pub_hash": "0f9db842b41c859223722809f8be602f5df9334348bd206b11e3af58c30eb345"
  },
  "nbformat_minor": 4,
  "nbformat": 4,
  "cells": [
    {
      "cell_type": "markdown",
      "source": "<p style=\"text-align:center\">\n    <a href=\"https://skills.network/?utm_medium=Exinfluencer&utm_source=Exinfluencer&utm_content=000026UJ&utm_term=10006555&utm_id=NA-SkillsNetwork-Channel-SkillsNetworkCoursesIBMDS0321ENSkillsNetwork26802033-2022-01-01\" target=\"_blank\">\n    <img src=\"https://cf-courses-data.s3.us.cloud-object-storage.appdomain.cloud/assets/logos/SN_web_lightmode.png\" width=\"200\" alt=\"Skills Network Logo\">\n    </a>\n</p>\n",
      "metadata": {}
    },
    {
      "cell_type": "markdown",
      "source": "# **Hands-on Lab: Interactive Visual Analytics with Folium**\n",
      "metadata": {}
    },
    {
      "cell_type": "markdown",
      "source": "Estimated time needed: **40** minutes\n",
      "metadata": {}
    },
    {
      "cell_type": "markdown",
      "source": "The launch success rate may depend on many factors such as payload mass, orbit type, and so on. It may also depend on the location and proximities of a launch site, i.e., the initial position of rocket trajectories. Finding an optimal location for building a launch site certainly involves many factors and hopefully we could discover some of the factors by analyzing the existing launch site locations.\n",
      "metadata": {}
    },
    {
      "cell_type": "markdown",
      "source": "In the previous exploratory data analysis labs, you have visualized the SpaceX launch dataset using `matplotlib` and `seaborn` and discovered some preliminary correlations between the launch site and success rates. In this lab, you will be performing more interactive visual analytics using `Folium`.\n",
      "metadata": {}
    },
    {
      "cell_type": "markdown",
      "source": "## Objectives\n",
      "metadata": {}
    },
    {
      "cell_type": "markdown",
      "source": "This lab contains the following tasks:\n\n*   **TASK 1:** Mark all launch sites on a map\n*   **TASK 2:** Mark the success/failed launches for each site on the map\n*   **TASK 3:** Calculate the distances between a launch site to its proximities\n\nAfter completed the above tasks, you should be able to find some geographical patterns about launch sites.\n",
      "metadata": {}
    },
    {
      "cell_type": "markdown",
      "source": "Let's first import required Python packages for this lab:\n",
      "metadata": {}
    },
    {
      "cell_type": "code",
      "source": "import piplite\nawait piplite.install(['folium'])\nawait piplite.install(['pandas'])",
      "metadata": {
        "trusted": true
      },
      "outputs": [],
      "execution_count": 1
    },
    {
      "cell_type": "code",
      "source": "import folium\nimport pandas as pd",
      "metadata": {
        "trusted": true
      },
      "outputs": [],
      "execution_count": 2
    },
    {
      "cell_type": "code",
      "source": "# Import folium MarkerCluster plugin\nfrom folium.plugins import MarkerCluster\n# Import folium MousePosition plugin\nfrom folium.plugins import MousePosition\n# Import folium DivIcon plugin\nfrom folium.features import DivIcon",
      "metadata": {
        "trusted": true
      },
      "outputs": [],
      "execution_count": 3
    },
    {
      "cell_type": "markdown",
      "source": "If you need to refresh your memory about folium, you may download and refer to this previous folium lab:\n",
      "metadata": {}
    },
    {
      "cell_type": "markdown",
      "source": "[Generating Maps with Python](https://cf-courses-data.s3.us.cloud-object-storage.appdomain.cloud/IBMDeveloperSkillsNetwork-DV0101EN-SkillsNetwork/labs/v4/DV0101EN-Exercise-Generating-Maps-in-Python.ipynb)\n",
      "metadata": {}
    },
    {
      "cell_type": "code",
      "source": "## Task 1: Mark all launch sites on a map",
      "metadata": {},
      "outputs": [],
      "execution_count": null
    },
    {
      "cell_type": "markdown",
      "source": "First, let's try to add each site's location on a map using site's latitude and longitude coordinates\n",
      "metadata": {}
    },
    {
      "cell_type": "markdown",
      "source": "The following dataset with the name `spacex_launch_geo.csv` is an augmented dataset with latitude and longitude added for each site.\n",
      "metadata": {}
    },
    {
      "cell_type": "code",
      "source": "# Download and read the `spacex_launch_geo.csv`\nfrom js import fetch\nimport io\n\nURL = 'https://cf-courses-data.s3.us.cloud-object-storage.appdomain.cloud/IBM-DS0321EN-SkillsNetwork/datasets/spacex_launch_geo.csv'\nresp = await fetch(URL)\nspacex_csv_file = io.BytesIO((await resp.arrayBuffer()).to_py())\nspacex_df=pd.read_csv(spacex_csv_file)",
      "metadata": {
        "trusted": true
      },
      "outputs": [],
      "execution_count": 4
    },
    {
      "cell_type": "markdown",
      "source": "Now, you can take a look at what are the coordinates for each site.\n",
      "metadata": {}
    },
    {
      "cell_type": "code",
      "source": "# Select relevant sub-columns: `Launch Site`, `Lat(Latitude)`, `Long(Longitude)`, `class`\nspacex_df = spacex_df[['Launch Site', 'Lat', 'Long', 'class']]\nlaunch_sites_df = spacex_df.groupby(['Launch Site'], as_index=False).first()\nlaunch_sites_df = launch_sites_df[['Launch Site', 'Lat', 'Long']]\nlaunch_sites_df",
      "metadata": {
        "trusted": true
      },
      "outputs": [
        {
          "execution_count": 5,
          "output_type": "execute_result",
          "data": {
            "text/plain": "    Launch Site        Lat        Long\n0   CCAFS LC-40  28.562302  -80.577356\n1  CCAFS SLC-40  28.563197  -80.576820\n2    KSC LC-39A  28.573255  -80.646895\n3   VAFB SLC-4E  34.632834 -120.610745",
            "text/html": "<div>\n<style scoped>\n    .dataframe tbody tr th:only-of-type {\n        vertical-align: middle;\n    }\n\n    .dataframe tbody tr th {\n        vertical-align: top;\n    }\n\n    .dataframe thead th {\n        text-align: right;\n    }\n</style>\n<table border=\"1\" class=\"dataframe\">\n  <thead>\n    <tr style=\"text-align: right;\">\n      <th></th>\n      <th>Launch Site</th>\n      <th>Lat</th>\n      <th>Long</th>\n    </tr>\n  </thead>\n  <tbody>\n    <tr>\n      <th>0</th>\n      <td>CCAFS LC-40</td>\n      <td>28.562302</td>\n      <td>-80.577356</td>\n    </tr>\n    <tr>\n      <th>1</th>\n      <td>CCAFS SLC-40</td>\n      <td>28.563197</td>\n      <td>-80.576820</td>\n    </tr>\n    <tr>\n      <th>2</th>\n      <td>KSC LC-39A</td>\n      <td>28.573255</td>\n      <td>-80.646895</td>\n    </tr>\n    <tr>\n      <th>3</th>\n      <td>VAFB SLC-4E</td>\n      <td>34.632834</td>\n      <td>-120.610745</td>\n    </tr>\n  </tbody>\n</table>\n</div>"
          },
          "metadata": {}
        }
      ],
      "execution_count": 5
    },
    {
      "cell_type": "markdown",
      "source": "Above coordinates are just plain numbers that can not give you any intuitive insights about where are those launch sites. If you are very good at geography, you can interpret those numbers directly in your mind. If not, that's fine too. Let's visualize those locations by pinning them on a map.\n",
      "metadata": {}
    },
    {
      "cell_type": "markdown",
      "source": "We first need to create a folium `Map` object, with an initial center location to be NASA Johnson Space Center at Houston, Texas.\n",
      "metadata": {}
    },
    {
      "cell_type": "code",
      "source": "# Start location is NASA Johnson Space Center\nnasa_coordinate = [29.559684888503615, -95.0830971930759]\nsite_map = folium.Map(location=nasa_coordinate, zoom_start=10)",
      "metadata": {
        "trusted": true
      },
      "outputs": [],
      "execution_count": 6
    },
    {
      "cell_type": "markdown",
      "source": "We could use `folium.Circle` to add a highlighted circle area with a text label on a specific coordinate. For example,\n",
      "metadata": {}
    },
    {
      "cell_type": "code",
      "source": "# Create a blue circle at NASA Johnson Space Center's coordinate with a popup label showing its name\ncircle = folium.Circle(nasa_coordinate, radius=1000, color='#d35400', fill=True).add_child(folium.Popup('NASA Johnson Space Center'))\n# Create a blue circle at NASA Johnson Space Center's coordinate with a icon showing its name\nmarker = folium.map.Marker(\n    nasa_coordinate,\n    # Create an icon as a text label\n    icon=DivIcon(\n        icon_size=(20,20),\n        icon_anchor=(0,0),\n        html='<div style=\"font-size: 12; color:#d35400;\"><b>%s</b></div>' % 'NASA JSC',\n        )\n    )\nsite_map.add_child(circle)\nsite_map.add_child(marker)",
      "metadata": {
        "trusted": true,
        "scrolled": true
      },
      "outputs": [
        {
          "execution_count": 7,
          "output_type": "execute_result",
          "data": {
            "text/plain": "<folium.folium.Map at 0x1031830>",
            "text/html": "<div style=\"width:100%;\"><div style=\"position:relative;width:100%;height:0;padding-bottom:60%;\"><span style=\"color:#565656\">Make this Notebook Trusted to load map: File -> Trust Notebook</span><iframe srcdoc=\"&lt;!DOCTYPE html&gt;\n&lt;html&gt;\n&lt;head&gt;\n    \n    &lt;meta http-equiv=&quot;content-type&quot; content=&quot;text/html; charset=UTF-8&quot; /&gt;\n    \n        &lt;script&gt;\n            L_NO_TOUCH = false;\n            L_DISABLE_3D = false;\n        &lt;/script&gt;\n    \n    &lt;style&gt;html, body {width: 100%;height: 100%;margin: 0;padding: 0;}&lt;/style&gt;\n    &lt;style&gt;#map {position:absolute;top:0;bottom:0;right:0;left:0;}&lt;/style&gt;\n    &lt;script src=&quot;https://cdn.jsdelivr.net/npm/leaflet@1.9.3/dist/leaflet.js&quot;&gt;&lt;/script&gt;\n    &lt;script src=&quot;https://code.jquery.com/jquery-3.7.1.min.js&quot;&gt;&lt;/script&gt;\n    &lt;script src=&quot;https://cdn.jsdelivr.net/npm/bootstrap@5.2.2/dist/js/bootstrap.bundle.min.js&quot;&gt;&lt;/script&gt;\n    &lt;script src=&quot;https://cdnjs.cloudflare.com/ajax/libs/Leaflet.awesome-markers/2.0.2/leaflet.awesome-markers.js&quot;&gt;&lt;/script&gt;\n    &lt;link rel=&quot;stylesheet&quot; href=&quot;https://cdn.jsdelivr.net/npm/leaflet@1.9.3/dist/leaflet.css&quot;/&gt;\n    &lt;link rel=&quot;stylesheet&quot; href=&quot;https://cdn.jsdelivr.net/npm/bootstrap@5.2.2/dist/css/bootstrap.min.css&quot;/&gt;\n    &lt;link rel=&quot;stylesheet&quot; href=&quot;https://netdna.bootstrapcdn.com/bootstrap/3.0.0/css/bootstrap-glyphicons.css&quot;/&gt;\n    &lt;link rel=&quot;stylesheet&quot; href=&quot;https://cdn.jsdelivr.net/npm/@fortawesome/fontawesome-free@6.2.0/css/all.min.css&quot;/&gt;\n    &lt;link rel=&quot;stylesheet&quot; href=&quot;https://cdnjs.cloudflare.com/ajax/libs/Leaflet.awesome-markers/2.0.2/leaflet.awesome-markers.css&quot;/&gt;\n    &lt;link rel=&quot;stylesheet&quot; href=&quot;https://cdn.jsdelivr.net/gh/python-visualization/folium/folium/templates/leaflet.awesome.rotate.min.css&quot;/&gt;\n    \n            &lt;meta name=&quot;viewport&quot; content=&quot;width=device-width,\n                initial-scale=1.0, maximum-scale=1.0, user-scalable=no&quot; /&gt;\n            &lt;style&gt;\n                #map_86952c4f375daf9023146bfca352ed31 {\n                    position: relative;\n                    width: 100.0%;\n                    height: 100.0%;\n                    left: 0.0%;\n                    top: 0.0%;\n                }\n                .leaflet-container { font-size: 1rem; }\n            &lt;/style&gt;\n        \n&lt;/head&gt;\n&lt;body&gt;\n    \n    \n            &lt;div class=&quot;folium-map&quot; id=&quot;map_86952c4f375daf9023146bfca352ed31&quot; &gt;&lt;/div&gt;\n        \n&lt;/body&gt;\n&lt;script&gt;\n    \n    \n            var map_86952c4f375daf9023146bfca352ed31 = L.map(\n                &quot;map_86952c4f375daf9023146bfca352ed31&quot;,\n                {\n                    center: [29.559684888503615, -95.0830971930759],\n                    crs: L.CRS.EPSG3857,\n                    ...{\n  &quot;zoom&quot;: 10,\n  &quot;zoomControl&quot;: true,\n  &quot;preferCanvas&quot;: false,\n}\n\n                }\n            );\n\n            \n\n        \n    \n            var tile_layer_a2a99bd75e335a8822d4339aeb69adf1 = L.tileLayer(\n                &quot;https://tile.openstreetmap.org/{z}/{x}/{y}.png&quot;,\n                {\n  &quot;minZoom&quot;: 0,\n  &quot;maxZoom&quot;: 19,\n  &quot;maxNativeZoom&quot;: 19,\n  &quot;noWrap&quot;: false,\n  &quot;attribution&quot;: &quot;\\u0026copy; \\u003ca href=\\&quot;https://www.openstreetmap.org/copyright\\&quot;\\u003eOpenStreetMap\\u003c/a\\u003e contributors&quot;,\n  &quot;subdomains&quot;: &quot;abc&quot;,\n  &quot;detectRetina&quot;: false,\n  &quot;tms&quot;: false,\n  &quot;opacity&quot;: 1,\n}\n\n            );\n        \n    \n            tile_layer_a2a99bd75e335a8822d4339aeb69adf1.addTo(map_86952c4f375daf9023146bfca352ed31);\n        \n    \n            var circle_94f8554e77d60bc15b43cc093b70e1df = L.circle(\n                [29.559684888503615, -95.0830971930759],\n                {&quot;bubblingMouseEvents&quot;: true, &quot;color&quot;: &quot;#d35400&quot;, &quot;dashArray&quot;: null, &quot;dashOffset&quot;: null, &quot;fill&quot;: true, &quot;fillColor&quot;: &quot;#d35400&quot;, &quot;fillOpacity&quot;: 0.2, &quot;fillRule&quot;: &quot;evenodd&quot;, &quot;lineCap&quot;: &quot;round&quot;, &quot;lineJoin&quot;: &quot;round&quot;, &quot;opacity&quot;: 1.0, &quot;radius&quot;: 1000, &quot;stroke&quot;: true, &quot;weight&quot;: 3}\n            ).addTo(map_86952c4f375daf9023146bfca352ed31);\n        \n    \n        var popup_7737cf4386545bbf3ac67b202f08459f = L.popup({\n  &quot;maxWidth&quot;: &quot;100%&quot;,\n});\n\n        \n            \n                var html_f94f0c94470e392ae7f605642f8e2bb9 = $(`&lt;div id=&quot;html_f94f0c94470e392ae7f605642f8e2bb9&quot; style=&quot;width: 100.0%; height: 100.0%;&quot;&gt;NASA Johnson Space Center&lt;/div&gt;`)[0];\n                popup_7737cf4386545bbf3ac67b202f08459f.setContent(html_f94f0c94470e392ae7f605642f8e2bb9);\n            \n        \n\n        circle_94f8554e77d60bc15b43cc093b70e1df.bindPopup(popup_7737cf4386545bbf3ac67b202f08459f)\n        ;\n\n        \n    \n    \n            var marker_735216354f5ff9adcf936d530cedf07a = L.marker(\n                [29.559684888503615, -95.0830971930759],\n                {\n}\n            ).addTo(map_86952c4f375daf9023146bfca352ed31);\n        \n    \n            var div_icon_a0447383d06ad3ea78d94dcc1454d697 = L.divIcon({\n  &quot;html&quot;: &quot;\\u003cdiv style=\\&quot;font-size: 12; color:#d35400;\\&quot;\\u003e\\u003cb\\u003eNASA JSC\\u003c/b\\u003e\\u003c/div\\u003e&quot;,\n  &quot;iconSize&quot;: [20, 20],\n  &quot;iconAnchor&quot;: [0, 0],\n  &quot;className&quot;: &quot;empty&quot;,\n});\n            marker_735216354f5ff9adcf936d530cedf07a.setIcon(div_icon_a0447383d06ad3ea78d94dcc1454d697);\n        \n    \n                marker_735216354f5ff9adcf936d530cedf07a.setIcon(div_icon_a0447383d06ad3ea78d94dcc1454d697);\n            \n&lt;/script&gt;\n&lt;/html&gt;\" style=\"position:absolute;width:100%;height:100%;left:0;top:0;border:none !important;\" allowfullscreen webkitallowfullscreen mozallowfullscreen></iframe></div></div>"
          },
          "metadata": {}
        }
      ],
      "execution_count": 7
    },
    {
      "cell_type": "markdown",
      "source": "and you should find a small yellow circle near the city of Houston and you can zoom-in to see a larger circle.\n",
      "metadata": {}
    },
    {
      "cell_type": "markdown",
      "source": "Now, let's add a circle for each launch site in data frame `launch_sites`\n",
      "metadata": {}
    },
    {
      "cell_type": "markdown",
      "source": "*TODO:*  Create and add `folium.Circle` and `folium.Marker` for each launch site on the site map\n",
      "metadata": {}
    },
    {
      "cell_type": "markdown",
      "source": "An example of folium.Circle:\n",
      "metadata": {}
    },
    {
      "cell_type": "markdown",
      "source": "`folium.Circle(coordinate, radius=1000, color='#000000', fill=True).add_child(folium.Popup(...))`\n",
      "metadata": {}
    },
    {
      "cell_type": "markdown",
      "source": "An example of folium.Marker:\n",
      "metadata": {}
    },
    {
      "cell_type": "markdown",
      "source": "`folium.map.Marker(coordinate, icon=DivIcon(icon_size=(20,20),icon_anchor=(0,0), html='<div style=\"font-size: 12; color:#d35400;\"><b>%s</b></div>' % 'label', ))`\n",
      "metadata": {}
    },
    {
      "cell_type": "code",
      "source": "# Initial the map\nsite_map = folium.Map(location=nasa_coordinate, zoom_start=5)\n\n# For each launch site, add a Circle object based on its coordinate (Lat, Long) values. In addition, add Launch site name as a popup label\nfor index, row in launch_sites_df.iterrows():\n    site_name = row[\"Launch Site\"]\n    coord = [row[\"Lat\"], row[\"Long\"]]\n\n    circle = folium.Circle(coord, radius=1000, color='#d35400', fill=True).add_child(folium.Popup(site_name))\n\n    marker = folium.Marker(\n        coord,\n        icon=DivIcon(\n            icon_size=(20, 20),\n            icon_anchor=(0, 0),\n            html=f'<div style=\"font-size: 12px; color:#d35400;\"><b>{site_name}</b></div>',\n        )\n    )\n    \n    site_map.add_child(circle)\n    site_map.add_child(marker)\n\nsite_map",
      "metadata": {
        "trusted": true
      },
      "outputs": [
        {
          "execution_count": 12,
          "output_type": "execute_result",
          "data": {
            "text/plain": "<folium.folium.Map at 0x6255ed8>",
            "text/html": "<div style=\"width:100%;\"><div style=\"position:relative;width:100%;height:0;padding-bottom:60%;\"><span style=\"color:#565656\">Make this Notebook Trusted to load map: File -> Trust Notebook</span><iframe srcdoc=\"&lt;!DOCTYPE html&gt;\n&lt;html&gt;\n&lt;head&gt;\n    \n    &lt;meta http-equiv=&quot;content-type&quot; content=&quot;text/html; charset=UTF-8&quot; /&gt;\n    \n        &lt;script&gt;\n            L_NO_TOUCH = false;\n            L_DISABLE_3D = false;\n        &lt;/script&gt;\n    \n    &lt;style&gt;html, body {width: 100%;height: 100%;margin: 0;padding: 0;}&lt;/style&gt;\n    &lt;style&gt;#map {position:absolute;top:0;bottom:0;right:0;left:0;}&lt;/style&gt;\n    &lt;script src=&quot;https://cdn.jsdelivr.net/npm/leaflet@1.9.3/dist/leaflet.js&quot;&gt;&lt;/script&gt;\n    &lt;script src=&quot;https://code.jquery.com/jquery-3.7.1.min.js&quot;&gt;&lt;/script&gt;\n    &lt;script src=&quot;https://cdn.jsdelivr.net/npm/bootstrap@5.2.2/dist/js/bootstrap.bundle.min.js&quot;&gt;&lt;/script&gt;\n    &lt;script src=&quot;https://cdnjs.cloudflare.com/ajax/libs/Leaflet.awesome-markers/2.0.2/leaflet.awesome-markers.js&quot;&gt;&lt;/script&gt;\n    &lt;link rel=&quot;stylesheet&quot; href=&quot;https://cdn.jsdelivr.net/npm/leaflet@1.9.3/dist/leaflet.css&quot;/&gt;\n    &lt;link rel=&quot;stylesheet&quot; href=&quot;https://cdn.jsdelivr.net/npm/bootstrap@5.2.2/dist/css/bootstrap.min.css&quot;/&gt;\n    &lt;link rel=&quot;stylesheet&quot; href=&quot;https://netdna.bootstrapcdn.com/bootstrap/3.0.0/css/bootstrap-glyphicons.css&quot;/&gt;\n    &lt;link rel=&quot;stylesheet&quot; href=&quot;https://cdn.jsdelivr.net/npm/@fortawesome/fontawesome-free@6.2.0/css/all.min.css&quot;/&gt;\n    &lt;link rel=&quot;stylesheet&quot; href=&quot;https://cdnjs.cloudflare.com/ajax/libs/Leaflet.awesome-markers/2.0.2/leaflet.awesome-markers.css&quot;/&gt;\n    &lt;link rel=&quot;stylesheet&quot; href=&quot;https://cdn.jsdelivr.net/gh/python-visualization/folium/folium/templates/leaflet.awesome.rotate.min.css&quot;/&gt;\n    \n            &lt;meta name=&quot;viewport&quot; content=&quot;width=device-width,\n                initial-scale=1.0, maximum-scale=1.0, user-scalable=no&quot; /&gt;\n            &lt;style&gt;\n                #map_26fdf3838c70294730f316e1c0516fb9 {\n                    position: relative;\n                    width: 100.0%;\n                    height: 100.0%;\n                    left: 0.0%;\n                    top: 0.0%;\n                }\n                .leaflet-container { font-size: 1rem; }\n            &lt;/style&gt;\n        \n&lt;/head&gt;\n&lt;body&gt;\n    \n    \n            &lt;div class=&quot;folium-map&quot; id=&quot;map_26fdf3838c70294730f316e1c0516fb9&quot; &gt;&lt;/div&gt;\n        \n&lt;/body&gt;\n&lt;script&gt;\n    \n    \n            var map_26fdf3838c70294730f316e1c0516fb9 = L.map(\n                &quot;map_26fdf3838c70294730f316e1c0516fb9&quot;,\n                {\n                    center: [29.559684888503615, -95.0830971930759],\n                    crs: L.CRS.EPSG3857,\n                    ...{\n  &quot;zoom&quot;: 5,\n  &quot;zoomControl&quot;: true,\n  &quot;preferCanvas&quot;: false,\n}\n\n                }\n            );\n\n            \n\n        \n    \n            var tile_layer_7396eabfc5a6bacfa5747466bb83f6d0 = L.tileLayer(\n                &quot;https://tile.openstreetmap.org/{z}/{x}/{y}.png&quot;,\n                {\n  &quot;minZoom&quot;: 0,\n  &quot;maxZoom&quot;: 19,\n  &quot;maxNativeZoom&quot;: 19,\n  &quot;noWrap&quot;: false,\n  &quot;attribution&quot;: &quot;\\u0026copy; \\u003ca href=\\&quot;https://www.openstreetmap.org/copyright\\&quot;\\u003eOpenStreetMap\\u003c/a\\u003e contributors&quot;,\n  &quot;subdomains&quot;: &quot;abc&quot;,\n  &quot;detectRetina&quot;: false,\n  &quot;tms&quot;: false,\n  &quot;opacity&quot;: 1,\n}\n\n            );\n        \n    \n            tile_layer_7396eabfc5a6bacfa5747466bb83f6d0.addTo(map_26fdf3838c70294730f316e1c0516fb9);\n        \n    \n            var circle_aabd79d6560819e5d6f261a94c737550 = L.circle(\n                [28.56230197, -80.57735648],\n                {&quot;bubblingMouseEvents&quot;: true, &quot;color&quot;: &quot;#d35400&quot;, &quot;dashArray&quot;: null, &quot;dashOffset&quot;: null, &quot;fill&quot;: true, &quot;fillColor&quot;: &quot;#d35400&quot;, &quot;fillOpacity&quot;: 0.2, &quot;fillRule&quot;: &quot;evenodd&quot;, &quot;lineCap&quot;: &quot;round&quot;, &quot;lineJoin&quot;: &quot;round&quot;, &quot;opacity&quot;: 1.0, &quot;radius&quot;: 1000, &quot;stroke&quot;: true, &quot;weight&quot;: 3}\n            ).addTo(map_26fdf3838c70294730f316e1c0516fb9);\n        \n    \n        var popup_2bd485585d4133e7cc01a09274a3790a = L.popup({\n  &quot;maxWidth&quot;: &quot;100%&quot;,\n});\n\n        \n            \n                var html_ff42ac669bd4246e759d0f818355083b = $(`&lt;div id=&quot;html_ff42ac669bd4246e759d0f818355083b&quot; style=&quot;width: 100.0%; height: 100.0%;&quot;&gt;CCAFS LC-40&lt;/div&gt;`)[0];\n                popup_2bd485585d4133e7cc01a09274a3790a.setContent(html_ff42ac669bd4246e759d0f818355083b);\n            \n        \n\n        circle_aabd79d6560819e5d6f261a94c737550.bindPopup(popup_2bd485585d4133e7cc01a09274a3790a)\n        ;\n\n        \n    \n    \n            var marker_de60caddccde2eb06fd2c967866ebc5a = L.marker(\n                [28.56230197, -80.57735648],\n                {\n}\n            ).addTo(map_26fdf3838c70294730f316e1c0516fb9);\n        \n    \n            var div_icon_9fdb104f8e019ae619a706c3566148fb = L.divIcon({\n  &quot;html&quot;: &quot;\\u003cdiv style=\\&quot;font-size: 12px; color:#d35400;\\&quot;\\u003e\\u003cb\\u003eCCAFS LC-40\\u003c/b\\u003e\\u003c/div\\u003e&quot;,\n  &quot;iconSize&quot;: [20, 20],\n  &quot;iconAnchor&quot;: [0, 0],\n  &quot;className&quot;: &quot;empty&quot;,\n});\n            marker_de60caddccde2eb06fd2c967866ebc5a.setIcon(div_icon_9fdb104f8e019ae619a706c3566148fb);\n        \n    \n                marker_de60caddccde2eb06fd2c967866ebc5a.setIcon(div_icon_9fdb104f8e019ae619a706c3566148fb);\n            \n    \n            var circle_94bd5d6b5d4030fdc5386ccdba965111 = L.circle(\n                [28.56319718, -80.57682003],\n                {&quot;bubblingMouseEvents&quot;: true, &quot;color&quot;: &quot;#d35400&quot;, &quot;dashArray&quot;: null, &quot;dashOffset&quot;: null, &quot;fill&quot;: true, &quot;fillColor&quot;: &quot;#d35400&quot;, &quot;fillOpacity&quot;: 0.2, &quot;fillRule&quot;: &quot;evenodd&quot;, &quot;lineCap&quot;: &quot;round&quot;, &quot;lineJoin&quot;: &quot;round&quot;, &quot;opacity&quot;: 1.0, &quot;radius&quot;: 1000, &quot;stroke&quot;: true, &quot;weight&quot;: 3}\n            ).addTo(map_26fdf3838c70294730f316e1c0516fb9);\n        \n    \n        var popup_ef0e69a75d4173c6232e07889216a2ea = L.popup({\n  &quot;maxWidth&quot;: &quot;100%&quot;,\n});\n\n        \n            \n                var html_3c589a26ae34006d551457e7392d6b0e = $(`&lt;div id=&quot;html_3c589a26ae34006d551457e7392d6b0e&quot; style=&quot;width: 100.0%; height: 100.0%;&quot;&gt;CCAFS SLC-40&lt;/div&gt;`)[0];\n                popup_ef0e69a75d4173c6232e07889216a2ea.setContent(html_3c589a26ae34006d551457e7392d6b0e);\n            \n        \n\n        circle_94bd5d6b5d4030fdc5386ccdba965111.bindPopup(popup_ef0e69a75d4173c6232e07889216a2ea)\n        ;\n\n        \n    \n    \n            var marker_039513c56fe48adfd9e6bba1f70e3f23 = L.marker(\n                [28.56319718, -80.57682003],\n                {\n}\n            ).addTo(map_26fdf3838c70294730f316e1c0516fb9);\n        \n    \n            var div_icon_23cb98c5568851415e9f49167d75cb36 = L.divIcon({\n  &quot;html&quot;: &quot;\\u003cdiv style=\\&quot;font-size: 12px; color:#d35400;\\&quot;\\u003e\\u003cb\\u003eCCAFS SLC-40\\u003c/b\\u003e\\u003c/div\\u003e&quot;,\n  &quot;iconSize&quot;: [20, 20],\n  &quot;iconAnchor&quot;: [0, 0],\n  &quot;className&quot;: &quot;empty&quot;,\n});\n            marker_039513c56fe48adfd9e6bba1f70e3f23.setIcon(div_icon_23cb98c5568851415e9f49167d75cb36);\n        \n    \n                marker_039513c56fe48adfd9e6bba1f70e3f23.setIcon(div_icon_23cb98c5568851415e9f49167d75cb36);\n            \n    \n            var circle_27c8999b6a8639f80d719766acf9e80a = L.circle(\n                [28.57325457, -80.64689529],\n                {&quot;bubblingMouseEvents&quot;: true, &quot;color&quot;: &quot;#d35400&quot;, &quot;dashArray&quot;: null, &quot;dashOffset&quot;: null, &quot;fill&quot;: true, &quot;fillColor&quot;: &quot;#d35400&quot;, &quot;fillOpacity&quot;: 0.2, &quot;fillRule&quot;: &quot;evenodd&quot;, &quot;lineCap&quot;: &quot;round&quot;, &quot;lineJoin&quot;: &quot;round&quot;, &quot;opacity&quot;: 1.0, &quot;radius&quot;: 1000, &quot;stroke&quot;: true, &quot;weight&quot;: 3}\n            ).addTo(map_26fdf3838c70294730f316e1c0516fb9);\n        \n    \n        var popup_3931970301ba0c4bcb35911badaf855a = L.popup({\n  &quot;maxWidth&quot;: &quot;100%&quot;,\n});\n\n        \n            \n                var html_2694fc41c31880e1d34879e4e629a0b8 = $(`&lt;div id=&quot;html_2694fc41c31880e1d34879e4e629a0b8&quot; style=&quot;width: 100.0%; height: 100.0%;&quot;&gt;KSC LC-39A&lt;/div&gt;`)[0];\n                popup_3931970301ba0c4bcb35911badaf855a.setContent(html_2694fc41c31880e1d34879e4e629a0b8);\n            \n        \n\n        circle_27c8999b6a8639f80d719766acf9e80a.bindPopup(popup_3931970301ba0c4bcb35911badaf855a)\n        ;\n\n        \n    \n    \n            var marker_6b49f69808b2e946beb11ec479219807 = L.marker(\n                [28.57325457, -80.64689529],\n                {\n}\n            ).addTo(map_26fdf3838c70294730f316e1c0516fb9);\n        \n    \n            var div_icon_543454cf8bc9cc2bc80c59f26e9fe648 = L.divIcon({\n  &quot;html&quot;: &quot;\\u003cdiv style=\\&quot;font-size: 12px; color:#d35400;\\&quot;\\u003e\\u003cb\\u003eKSC LC-39A\\u003c/b\\u003e\\u003c/div\\u003e&quot;,\n  &quot;iconSize&quot;: [20, 20],\n  &quot;iconAnchor&quot;: [0, 0],\n  &quot;className&quot;: &quot;empty&quot;,\n});\n            marker_6b49f69808b2e946beb11ec479219807.setIcon(div_icon_543454cf8bc9cc2bc80c59f26e9fe648);\n        \n    \n                marker_6b49f69808b2e946beb11ec479219807.setIcon(div_icon_543454cf8bc9cc2bc80c59f26e9fe648);\n            \n    \n            var circle_2513924ddae251416515d53bfbcca7f3 = L.circle(\n                [34.63283416, -120.6107455],\n                {&quot;bubblingMouseEvents&quot;: true, &quot;color&quot;: &quot;#d35400&quot;, &quot;dashArray&quot;: null, &quot;dashOffset&quot;: null, &quot;fill&quot;: true, &quot;fillColor&quot;: &quot;#d35400&quot;, &quot;fillOpacity&quot;: 0.2, &quot;fillRule&quot;: &quot;evenodd&quot;, &quot;lineCap&quot;: &quot;round&quot;, &quot;lineJoin&quot;: &quot;round&quot;, &quot;opacity&quot;: 1.0, &quot;radius&quot;: 1000, &quot;stroke&quot;: true, &quot;weight&quot;: 3}\n            ).addTo(map_26fdf3838c70294730f316e1c0516fb9);\n        \n    \n        var popup_9e68f611980f14a1310811756ac816fc = L.popup({\n  &quot;maxWidth&quot;: &quot;100%&quot;,\n});\n\n        \n            \n                var html_e3ab7878256594ba2eac9a1ea61dfb36 = $(`&lt;div id=&quot;html_e3ab7878256594ba2eac9a1ea61dfb36&quot; style=&quot;width: 100.0%; height: 100.0%;&quot;&gt;VAFB SLC-4E&lt;/div&gt;`)[0];\n                popup_9e68f611980f14a1310811756ac816fc.setContent(html_e3ab7878256594ba2eac9a1ea61dfb36);\n            \n        \n\n        circle_2513924ddae251416515d53bfbcca7f3.bindPopup(popup_9e68f611980f14a1310811756ac816fc)\n        ;\n\n        \n    \n    \n            var marker_aae98f9341ded4a7ba88474f52f36b81 = L.marker(\n                [34.63283416, -120.6107455],\n                {\n}\n            ).addTo(map_26fdf3838c70294730f316e1c0516fb9);\n        \n    \n            var div_icon_0bb11eaaca8ca4fc38a298aa59edb5ad = L.divIcon({\n  &quot;html&quot;: &quot;\\u003cdiv style=\\&quot;font-size: 12px; color:#d35400;\\&quot;\\u003e\\u003cb\\u003eVAFB SLC-4E\\u003c/b\\u003e\\u003c/div\\u003e&quot;,\n  &quot;iconSize&quot;: [20, 20],\n  &quot;iconAnchor&quot;: [0, 0],\n  &quot;className&quot;: &quot;empty&quot;,\n});\n            marker_aae98f9341ded4a7ba88474f52f36b81.setIcon(div_icon_0bb11eaaca8ca4fc38a298aa59edb5ad);\n        \n    \n                marker_aae98f9341ded4a7ba88474f52f36b81.setIcon(div_icon_0bb11eaaca8ca4fc38a298aa59edb5ad);\n            \n&lt;/script&gt;\n&lt;/html&gt;\" style=\"position:absolute;width:100%;height:100%;left:0;top:0;border:none !important;\" allowfullscreen webkitallowfullscreen mozallowfullscreen></iframe></div></div>"
          },
          "metadata": {}
        }
      ],
      "execution_count": 12
    },
    {
      "cell_type": "markdown",
      "source": "The generated map with marked launch sites should look similar to the following:\n",
      "metadata": {}
    },
    {
      "cell_type": "markdown",
      "source": "<center>\n    <img src=\"https://cf-courses-data.s3.us.cloud-object-storage.appdomain.cloud/IBM-DS0321EN-SkillsNetwork/labs/module_3/images/launch_site_markers.png\">\n</center>\n",
      "metadata": {}
    },
    {
      "cell_type": "markdown",
      "source": "Now, you can explore the map by zoom-in/out the marked areas\n, and try to answer the following questions:\n\n*   Are all launch sites in proximity to the Equator line?\n*   Are all launch sites in very close proximity to the coast?\n\nAlso please try to explain your findings.\n",
      "metadata": {}
    },
    {
      "cell_type": "code",
      "source": "# Task 2: Mark the success/failed launches for each site on the map",
      "metadata": {},
      "outputs": [],
      "execution_count": null
    },
    {
      "cell_type": "markdown",
      "source": "Next, let's try to enhance the map by adding the launch outcomes for each site, and see which sites have high success rates.\nRecall that data frame spacex_df has detailed launch records, and the `class` column indicates if this launch was successful or not\n",
      "metadata": {}
    },
    {
      "cell_type": "code",
      "source": "spacex_df.tail(10)",
      "metadata": {
        "trusted": true
      },
      "outputs": [
        {
          "execution_count": 13,
          "output_type": "execute_result",
          "data": {
            "text/plain": "     Launch Site        Lat       Long  class\n46    KSC LC-39A  28.573255 -80.646895      1\n47    KSC LC-39A  28.573255 -80.646895      1\n48    KSC LC-39A  28.573255 -80.646895      1\n49  CCAFS SLC-40  28.563197 -80.576820      1\n50  CCAFS SLC-40  28.563197 -80.576820      1\n51  CCAFS SLC-40  28.563197 -80.576820      0\n52  CCAFS SLC-40  28.563197 -80.576820      0\n53  CCAFS SLC-40  28.563197 -80.576820      0\n54  CCAFS SLC-40  28.563197 -80.576820      1\n55  CCAFS SLC-40  28.563197 -80.576820      0",
            "text/html": "<div>\n<style scoped>\n    .dataframe tbody tr th:only-of-type {\n        vertical-align: middle;\n    }\n\n    .dataframe tbody tr th {\n        vertical-align: top;\n    }\n\n    .dataframe thead th {\n        text-align: right;\n    }\n</style>\n<table border=\"1\" class=\"dataframe\">\n  <thead>\n    <tr style=\"text-align: right;\">\n      <th></th>\n      <th>Launch Site</th>\n      <th>Lat</th>\n      <th>Long</th>\n      <th>class</th>\n    </tr>\n  </thead>\n  <tbody>\n    <tr>\n      <th>46</th>\n      <td>KSC LC-39A</td>\n      <td>28.573255</td>\n      <td>-80.646895</td>\n      <td>1</td>\n    </tr>\n    <tr>\n      <th>47</th>\n      <td>KSC LC-39A</td>\n      <td>28.573255</td>\n      <td>-80.646895</td>\n      <td>1</td>\n    </tr>\n    <tr>\n      <th>48</th>\n      <td>KSC LC-39A</td>\n      <td>28.573255</td>\n      <td>-80.646895</td>\n      <td>1</td>\n    </tr>\n    <tr>\n      <th>49</th>\n      <td>CCAFS SLC-40</td>\n      <td>28.563197</td>\n      <td>-80.576820</td>\n      <td>1</td>\n    </tr>\n    <tr>\n      <th>50</th>\n      <td>CCAFS SLC-40</td>\n      <td>28.563197</td>\n      <td>-80.576820</td>\n      <td>1</td>\n    </tr>\n    <tr>\n      <th>51</th>\n      <td>CCAFS SLC-40</td>\n      <td>28.563197</td>\n      <td>-80.576820</td>\n      <td>0</td>\n    </tr>\n    <tr>\n      <th>52</th>\n      <td>CCAFS SLC-40</td>\n      <td>28.563197</td>\n      <td>-80.576820</td>\n      <td>0</td>\n    </tr>\n    <tr>\n      <th>53</th>\n      <td>CCAFS SLC-40</td>\n      <td>28.563197</td>\n      <td>-80.576820</td>\n      <td>0</td>\n    </tr>\n    <tr>\n      <th>54</th>\n      <td>CCAFS SLC-40</td>\n      <td>28.563197</td>\n      <td>-80.576820</td>\n      <td>1</td>\n    </tr>\n    <tr>\n      <th>55</th>\n      <td>CCAFS SLC-40</td>\n      <td>28.563197</td>\n      <td>-80.576820</td>\n      <td>0</td>\n    </tr>\n  </tbody>\n</table>\n</div>"
          },
          "metadata": {}
        }
      ],
      "execution_count": 13
    },
    {
      "cell_type": "markdown",
      "source": "Next, let's create markers for all launch records.\nIf a launch was successful `(class=1)`, then we use a green marker and if a launch was failed, we use a red marker `(class=0)`\n",
      "metadata": {}
    },
    {
      "cell_type": "markdown",
      "source": "Note that a launch only happens in one of the four launch sites, which means many launch records will have the exact same coordinate. Marker clusters can be a good way to simplify a map containing many markers having the same coordinate.\n",
      "metadata": {}
    },
    {
      "cell_type": "markdown",
      "source": "Let's first create a `MarkerCluster` object\n",
      "metadata": {}
    },
    {
      "cell_type": "code",
      "source": "marker_cluster = MarkerCluster()\n",
      "metadata": {
        "trusted": true
      },
      "outputs": [],
      "execution_count": 14
    },
    {
      "cell_type": "markdown",
      "source": "*TODO:* Create a new column in `spacex_df` dataframe called `marker_color` to store the marker colors based on the `class` value\n",
      "metadata": {}
    },
    {
      "cell_type": "code",
      "source": "\n# Apply a function to check the value of `class` column\n# If class=1, marker_color value will be green\n# If class=0, marker_color value will be red\ndef assign_marker_color(launch_class):\n    return \"green\" if launch_class == 1 else \"red\"\n\nspacex_df[\"marker_color\"] = spacex_df[\"class\"].apply(assign_marker_color)\n\nspacex_df.head()",
      "metadata": {
        "trusted": true
      },
      "outputs": [
        {
          "execution_count": 21,
          "output_type": "execute_result",
          "data": {
            "text/plain": "   Launch Site        Lat       Long  class marker_color\n0  CCAFS LC-40  28.562302 -80.577356      0          red\n1  CCAFS LC-40  28.562302 -80.577356      0          red\n2  CCAFS LC-40  28.562302 -80.577356      0          red\n3  CCAFS LC-40  28.562302 -80.577356      0          red\n4  CCAFS LC-40  28.562302 -80.577356      0          red",
            "text/html": "<div>\n<style scoped>\n    .dataframe tbody tr th:only-of-type {\n        vertical-align: middle;\n    }\n\n    .dataframe tbody tr th {\n        vertical-align: top;\n    }\n\n    .dataframe thead th {\n        text-align: right;\n    }\n</style>\n<table border=\"1\" class=\"dataframe\">\n  <thead>\n    <tr style=\"text-align: right;\">\n      <th></th>\n      <th>Launch Site</th>\n      <th>Lat</th>\n      <th>Long</th>\n      <th>class</th>\n      <th>marker_color</th>\n    </tr>\n  </thead>\n  <tbody>\n    <tr>\n      <th>0</th>\n      <td>CCAFS LC-40</td>\n      <td>28.562302</td>\n      <td>-80.577356</td>\n      <td>0</td>\n      <td>red</td>\n    </tr>\n    <tr>\n      <th>1</th>\n      <td>CCAFS LC-40</td>\n      <td>28.562302</td>\n      <td>-80.577356</td>\n      <td>0</td>\n      <td>red</td>\n    </tr>\n    <tr>\n      <th>2</th>\n      <td>CCAFS LC-40</td>\n      <td>28.562302</td>\n      <td>-80.577356</td>\n      <td>0</td>\n      <td>red</td>\n    </tr>\n    <tr>\n      <th>3</th>\n      <td>CCAFS LC-40</td>\n      <td>28.562302</td>\n      <td>-80.577356</td>\n      <td>0</td>\n      <td>red</td>\n    </tr>\n    <tr>\n      <th>4</th>\n      <td>CCAFS LC-40</td>\n      <td>28.562302</td>\n      <td>-80.577356</td>\n      <td>0</td>\n      <td>red</td>\n    </tr>\n  </tbody>\n</table>\n</div>"
          },
          "metadata": {}
        }
      ],
      "execution_count": 21
    },
    {
      "cell_type": "markdown",
      "source": "*TODO:* For each launch result in `spacex_df` data frame, add a `folium.Marker` to `marker_cluster`\n",
      "metadata": {}
    },
    {
      "cell_type": "code",
      "source": "# Add marker_cluster to current site_map\nsite_map.add_child(marker_cluster)\n\n# for each row in spacex_df data frame\n# create a Marker object with its coordinate\n# and customize the Marker's icon property to indicate if this launch was successed or failed, \n# e.g., icon=folium.Icon(color='white', icon_color=row['marker_color']\nfor index, record in spacex_df.iterrows():\n    # TODO: Create and add a Marker cluster to the site map\n    lat = record['Lat']\n    lon = record['Long']\n    \n    # marker = folium.Marker(...)\n    marker = folium.Marker(\n        location=[lat, lon],\n        icon=folium.Icon(color=record['marker_color'], icon_color='white', icon='circle', prefix='fa'),\n#        popup=f\"Launch Outcome: {'Success' if marker_color == 'green' else 'Failed'}\"\n    )\n\n\n    marker_cluster.add_child(marker)\n\nsite_map",
      "metadata": {
        "trusted": true
      },
      "outputs": [
        {
          "execution_count": 27,
          "output_type": "execute_result",
          "data": {
            "text/plain": "<folium.folium.Map at 0x6255ed8>",
            "text/html": "<div style=\"width:100%;\"><div style=\"position:relative;width:100%;height:0;padding-bottom:60%;\"><span style=\"color:#565656\">Make this Notebook Trusted to load map: File -> Trust Notebook</span><iframe srcdoc=\"&lt;!DOCTYPE html&gt;\n&lt;html&gt;\n&lt;head&gt;\n    \n    &lt;meta http-equiv=&quot;content-type&quot; content=&quot;text/html; charset=UTF-8&quot; /&gt;\n    \n        &lt;script&gt;\n            L_NO_TOUCH = false;\n            L_DISABLE_3D = false;\n        &lt;/script&gt;\n    \n    &lt;style&gt;html, body {width: 100%;height: 100%;margin: 0;padding: 0;}&lt;/style&gt;\n    &lt;style&gt;#map {position:absolute;top:0;bottom:0;right:0;left:0;}&lt;/style&gt;\n    &lt;script src=&quot;https://cdn.jsdelivr.net/npm/leaflet@1.9.3/dist/leaflet.js&quot;&gt;&lt;/script&gt;\n    &lt;script src=&quot;https://code.jquery.com/jquery-3.7.1.min.js&quot;&gt;&lt;/script&gt;\n    &lt;script src=&quot;https://cdn.jsdelivr.net/npm/bootstrap@5.2.2/dist/js/bootstrap.bundle.min.js&quot;&gt;&lt;/script&gt;\n    &lt;script src=&quot;https://cdnjs.cloudflare.com/ajax/libs/Leaflet.awesome-markers/2.0.2/leaflet.awesome-markers.js&quot;&gt;&lt;/script&gt;\n    &lt;link rel=&quot;stylesheet&quot; href=&quot;https://cdn.jsdelivr.net/npm/leaflet@1.9.3/dist/leaflet.css&quot;/&gt;\n    &lt;link rel=&quot;stylesheet&quot; href=&quot;https://cdn.jsdelivr.net/npm/bootstrap@5.2.2/dist/css/bootstrap.min.css&quot;/&gt;\n    &lt;link rel=&quot;stylesheet&quot; href=&quot;https://netdna.bootstrapcdn.com/bootstrap/3.0.0/css/bootstrap-glyphicons.css&quot;/&gt;\n    &lt;link rel=&quot;stylesheet&quot; href=&quot;https://cdn.jsdelivr.net/npm/@fortawesome/fontawesome-free@6.2.0/css/all.min.css&quot;/&gt;\n    &lt;link rel=&quot;stylesheet&quot; href=&quot;https://cdnjs.cloudflare.com/ajax/libs/Leaflet.awesome-markers/2.0.2/leaflet.awesome-markers.css&quot;/&gt;\n    &lt;link rel=&quot;stylesheet&quot; href=&quot;https://cdn.jsdelivr.net/gh/python-visualization/folium/folium/templates/leaflet.awesome.rotate.min.css&quot;/&gt;\n    \n            &lt;meta name=&quot;viewport&quot; content=&quot;width=device-width,\n                initial-scale=1.0, maximum-scale=1.0, user-scalable=no&quot; /&gt;\n            &lt;style&gt;\n                #map_26fdf3838c70294730f316e1c0516fb9 {\n                    position: relative;\n                    width: 100.0%;\n                    height: 100.0%;\n                    left: 0.0%;\n                    top: 0.0%;\n                }\n                .leaflet-container { font-size: 1rem; }\n            &lt;/style&gt;\n        \n    &lt;script src=&quot;https://cdnjs.cloudflare.com/ajax/libs/leaflet.markercluster/1.1.0/leaflet.markercluster.js&quot;&gt;&lt;/script&gt;\n    &lt;link rel=&quot;stylesheet&quot; href=&quot;https://cdnjs.cloudflare.com/ajax/libs/leaflet.markercluster/1.1.0/MarkerCluster.css&quot;/&gt;\n    &lt;link rel=&quot;stylesheet&quot; href=&quot;https://cdnjs.cloudflare.com/ajax/libs/leaflet.markercluster/1.1.0/MarkerCluster.Default.css&quot;/&gt;\n&lt;/head&gt;\n&lt;body&gt;\n    \n    \n            &lt;div class=&quot;folium-map&quot; id=&quot;map_26fdf3838c70294730f316e1c0516fb9&quot; &gt;&lt;/div&gt;\n        \n&lt;/body&gt;\n&lt;script&gt;\n    \n    \n            var map_26fdf3838c70294730f316e1c0516fb9 = L.map(\n                &quot;map_26fdf3838c70294730f316e1c0516fb9&quot;,\n                {\n                    center: [29.559684888503615, -95.0830971930759],\n                    crs: L.CRS.EPSG3857,\n                    ...{\n  &quot;zoom&quot;: 5,\n  &quot;zoomControl&quot;: true,\n  &quot;preferCanvas&quot;: false,\n}\n\n                }\n            );\n\n            \n\n        \n    \n            var tile_layer_7396eabfc5a6bacfa5747466bb83f6d0 = L.tileLayer(\n                &quot;https://tile.openstreetmap.org/{z}/{x}/{y}.png&quot;,\n                {\n  &quot;minZoom&quot;: 0,\n  &quot;maxZoom&quot;: 19,\n  &quot;maxNativeZoom&quot;: 19,\n  &quot;noWrap&quot;: false,\n  &quot;attribution&quot;: &quot;\\u0026copy; \\u003ca href=\\&quot;https://www.openstreetmap.org/copyright\\&quot;\\u003eOpenStreetMap\\u003c/a\\u003e contributors&quot;,\n  &quot;subdomains&quot;: &quot;abc&quot;,\n  &quot;detectRetina&quot;: false,\n  &quot;tms&quot;: false,\n  &quot;opacity&quot;: 1,\n}\n\n            );\n        \n    \n            tile_layer_7396eabfc5a6bacfa5747466bb83f6d0.addTo(map_26fdf3838c70294730f316e1c0516fb9);\n        \n    \n            var circle_aabd79d6560819e5d6f261a94c737550 = L.circle(\n                [28.56230197, -80.57735648],\n                {&quot;bubblingMouseEvents&quot;: true, &quot;color&quot;: &quot;#d35400&quot;, &quot;dashArray&quot;: null, &quot;dashOffset&quot;: null, &quot;fill&quot;: true, &quot;fillColor&quot;: &quot;#d35400&quot;, &quot;fillOpacity&quot;: 0.2, &quot;fillRule&quot;: &quot;evenodd&quot;, &quot;lineCap&quot;: &quot;round&quot;, &quot;lineJoin&quot;: &quot;round&quot;, &quot;opacity&quot;: 1.0, &quot;radius&quot;: 1000, &quot;stroke&quot;: true, &quot;weight&quot;: 3}\n            ).addTo(map_26fdf3838c70294730f316e1c0516fb9);\n        \n    \n        var popup_2bd485585d4133e7cc01a09274a3790a = L.popup({\n  &quot;maxWidth&quot;: &quot;100%&quot;,\n});\n\n        \n            \n                var html_ff42ac669bd4246e759d0f818355083b = $(`&lt;div id=&quot;html_ff42ac669bd4246e759d0f818355083b&quot; style=&quot;width: 100.0%; height: 100.0%;&quot;&gt;CCAFS LC-40&lt;/div&gt;`)[0];\n                popup_2bd485585d4133e7cc01a09274a3790a.setContent(html_ff42ac669bd4246e759d0f818355083b);\n            \n        \n\n        circle_aabd79d6560819e5d6f261a94c737550.bindPopup(popup_2bd485585d4133e7cc01a09274a3790a)\n        ;\n\n        \n    \n    \n            var marker_de60caddccde2eb06fd2c967866ebc5a = L.marker(\n                [28.56230197, -80.57735648],\n                {\n}\n            ).addTo(map_26fdf3838c70294730f316e1c0516fb9);\n        \n    \n            var div_icon_9fdb104f8e019ae619a706c3566148fb = L.divIcon({\n  &quot;html&quot;: &quot;\\u003cdiv style=\\&quot;font-size: 12px; color:#d35400;\\&quot;\\u003e\\u003cb\\u003eCCAFS LC-40\\u003c/b\\u003e\\u003c/div\\u003e&quot;,\n  &quot;iconSize&quot;: [20, 20],\n  &quot;iconAnchor&quot;: [0, 0],\n  &quot;className&quot;: &quot;empty&quot;,\n});\n            marker_de60caddccde2eb06fd2c967866ebc5a.setIcon(div_icon_9fdb104f8e019ae619a706c3566148fb);\n        \n    \n                marker_de60caddccde2eb06fd2c967866ebc5a.setIcon(div_icon_9fdb104f8e019ae619a706c3566148fb);\n            \n    \n            var circle_94bd5d6b5d4030fdc5386ccdba965111 = L.circle(\n                [28.56319718, -80.57682003],\n                {&quot;bubblingMouseEvents&quot;: true, &quot;color&quot;: &quot;#d35400&quot;, &quot;dashArray&quot;: null, &quot;dashOffset&quot;: null, &quot;fill&quot;: true, &quot;fillColor&quot;: &quot;#d35400&quot;, &quot;fillOpacity&quot;: 0.2, &quot;fillRule&quot;: &quot;evenodd&quot;, &quot;lineCap&quot;: &quot;round&quot;, &quot;lineJoin&quot;: &quot;round&quot;, &quot;opacity&quot;: 1.0, &quot;radius&quot;: 1000, &quot;stroke&quot;: true, &quot;weight&quot;: 3}\n            ).addTo(map_26fdf3838c70294730f316e1c0516fb9);\n        \n    \n        var popup_ef0e69a75d4173c6232e07889216a2ea = L.popup({\n  &quot;maxWidth&quot;: &quot;100%&quot;,\n});\n\n        \n            \n                var html_3c589a26ae34006d551457e7392d6b0e = $(`&lt;div id=&quot;html_3c589a26ae34006d551457e7392d6b0e&quot; style=&quot;width: 100.0%; height: 100.0%;&quot;&gt;CCAFS SLC-40&lt;/div&gt;`)[0];\n                popup_ef0e69a75d4173c6232e07889216a2ea.setContent(html_3c589a26ae34006d551457e7392d6b0e);\n            \n        \n\n        circle_94bd5d6b5d4030fdc5386ccdba965111.bindPopup(popup_ef0e69a75d4173c6232e07889216a2ea)\n        ;\n\n        \n    \n    \n            var marker_039513c56fe48adfd9e6bba1f70e3f23 = L.marker(\n                [28.56319718, -80.57682003],\n                {\n}\n            ).addTo(map_26fdf3838c70294730f316e1c0516fb9);\n        \n    \n            var div_icon_23cb98c5568851415e9f49167d75cb36 = L.divIcon({\n  &quot;html&quot;: &quot;\\u003cdiv style=\\&quot;font-size: 12px; color:#d35400;\\&quot;\\u003e\\u003cb\\u003eCCAFS SLC-40\\u003c/b\\u003e\\u003c/div\\u003e&quot;,\n  &quot;iconSize&quot;: [20, 20],\n  &quot;iconAnchor&quot;: [0, 0],\n  &quot;className&quot;: &quot;empty&quot;,\n});\n            marker_039513c56fe48adfd9e6bba1f70e3f23.setIcon(div_icon_23cb98c5568851415e9f49167d75cb36);\n        \n    \n                marker_039513c56fe48adfd9e6bba1f70e3f23.setIcon(div_icon_23cb98c5568851415e9f49167d75cb36);\n            \n    \n            var circle_27c8999b6a8639f80d719766acf9e80a = L.circle(\n                [28.57325457, -80.64689529],\n                {&quot;bubblingMouseEvents&quot;: true, &quot;color&quot;: &quot;#d35400&quot;, &quot;dashArray&quot;: null, &quot;dashOffset&quot;: null, &quot;fill&quot;: true, &quot;fillColor&quot;: &quot;#d35400&quot;, &quot;fillOpacity&quot;: 0.2, &quot;fillRule&quot;: &quot;evenodd&quot;, &quot;lineCap&quot;: &quot;round&quot;, &quot;lineJoin&quot;: &quot;round&quot;, &quot;opacity&quot;: 1.0, &quot;radius&quot;: 1000, &quot;stroke&quot;: true, &quot;weight&quot;: 3}\n            ).addTo(map_26fdf3838c70294730f316e1c0516fb9);\n        \n    \n        var popup_3931970301ba0c4bcb35911badaf855a = L.popup({\n  &quot;maxWidth&quot;: &quot;100%&quot;,\n});\n\n        \n            \n                var html_2694fc41c31880e1d34879e4e629a0b8 = $(`&lt;div id=&quot;html_2694fc41c31880e1d34879e4e629a0b8&quot; style=&quot;width: 100.0%; height: 100.0%;&quot;&gt;KSC LC-39A&lt;/div&gt;`)[0];\n                popup_3931970301ba0c4bcb35911badaf855a.setContent(html_2694fc41c31880e1d34879e4e629a0b8);\n            \n        \n\n        circle_27c8999b6a8639f80d719766acf9e80a.bindPopup(popup_3931970301ba0c4bcb35911badaf855a)\n        ;\n\n        \n    \n    \n            var marker_6b49f69808b2e946beb11ec479219807 = L.marker(\n                [28.57325457, -80.64689529],\n                {\n}\n            ).addTo(map_26fdf3838c70294730f316e1c0516fb9);\n        \n    \n            var div_icon_543454cf8bc9cc2bc80c59f26e9fe648 = L.divIcon({\n  &quot;html&quot;: &quot;\\u003cdiv style=\\&quot;font-size: 12px; color:#d35400;\\&quot;\\u003e\\u003cb\\u003eKSC LC-39A\\u003c/b\\u003e\\u003c/div\\u003e&quot;,\n  &quot;iconSize&quot;: [20, 20],\n  &quot;iconAnchor&quot;: [0, 0],\n  &quot;className&quot;: &quot;empty&quot;,\n});\n            marker_6b49f69808b2e946beb11ec479219807.setIcon(div_icon_543454cf8bc9cc2bc80c59f26e9fe648);\n        \n    \n                marker_6b49f69808b2e946beb11ec479219807.setIcon(div_icon_543454cf8bc9cc2bc80c59f26e9fe648);\n            \n    \n            var circle_2513924ddae251416515d53bfbcca7f3 = L.circle(\n                [34.63283416, -120.6107455],\n                {&quot;bubblingMouseEvents&quot;: true, &quot;color&quot;: &quot;#d35400&quot;, &quot;dashArray&quot;: null, &quot;dashOffset&quot;: null, &quot;fill&quot;: true, &quot;fillColor&quot;: &quot;#d35400&quot;, &quot;fillOpacity&quot;: 0.2, &quot;fillRule&quot;: &quot;evenodd&quot;, &quot;lineCap&quot;: &quot;round&quot;, &quot;lineJoin&quot;: &quot;round&quot;, &quot;opacity&quot;: 1.0, &quot;radius&quot;: 1000, &quot;stroke&quot;: true, &quot;weight&quot;: 3}\n            ).addTo(map_26fdf3838c70294730f316e1c0516fb9);\n        \n    \n        var popup_9e68f611980f14a1310811756ac816fc = L.popup({\n  &quot;maxWidth&quot;: &quot;100%&quot;,\n});\n\n        \n            \n                var html_e3ab7878256594ba2eac9a1ea61dfb36 = $(`&lt;div id=&quot;html_e3ab7878256594ba2eac9a1ea61dfb36&quot; style=&quot;width: 100.0%; height: 100.0%;&quot;&gt;VAFB SLC-4E&lt;/div&gt;`)[0];\n                popup_9e68f611980f14a1310811756ac816fc.setContent(html_e3ab7878256594ba2eac9a1ea61dfb36);\n            \n        \n\n        circle_2513924ddae251416515d53bfbcca7f3.bindPopup(popup_9e68f611980f14a1310811756ac816fc)\n        ;\n\n        \n    \n    \n            var marker_aae98f9341ded4a7ba88474f52f36b81 = L.marker(\n                [34.63283416, -120.6107455],\n                {\n}\n            ).addTo(marker_cluster_1a7c09a397069616875a9f8ab2de5bf9);\n        \n    \n            var div_icon_0bb11eaaca8ca4fc38a298aa59edb5ad = L.divIcon({\n  &quot;html&quot;: &quot;\\u003cdiv style=\\&quot;font-size: 12px; color:#d35400;\\&quot;\\u003e\\u003cb\\u003eVAFB SLC-4E\\u003c/b\\u003e\\u003c/div\\u003e&quot;,\n  &quot;iconSize&quot;: [20, 20],\n  &quot;iconAnchor&quot;: [0, 0],\n  &quot;className&quot;: &quot;empty&quot;,\n});\n            marker_aae98f9341ded4a7ba88474f52f36b81.setIcon(div_icon_0bb11eaaca8ca4fc38a298aa59edb5ad);\n        \n    \n                marker_aae98f9341ded4a7ba88474f52f36b81.setIcon(div_icon_0bb11eaaca8ca4fc38a298aa59edb5ad);\n            \n    \n            tile_layer_7396eabfc5a6bacfa5747466bb83f6d0.addTo(map_26fdf3838c70294730f316e1c0516fb9);\n        \n    \n                marker_de60caddccde2eb06fd2c967866ebc5a.setIcon(div_icon_9fdb104f8e019ae619a706c3566148fb);\n            \n    \n                marker_039513c56fe48adfd9e6bba1f70e3f23.setIcon(div_icon_23cb98c5568851415e9f49167d75cb36);\n            \n    \n                marker_6b49f69808b2e946beb11ec479219807.setIcon(div_icon_543454cf8bc9cc2bc80c59f26e9fe648);\n            \n    \n                marker_aae98f9341ded4a7ba88474f52f36b81.setIcon(div_icon_0bb11eaaca8ca4fc38a298aa59edb5ad);\n            \n    \n            var marker_cluster_1a7c09a397069616875a9f8ab2de5bf9 = L.markerClusterGroup(\n                {\n}\n            );\n        \n    \n                marker_aae98f9341ded4a7ba88474f52f36b81.setIcon(div_icon_0bb11eaaca8ca4fc38a298aa59edb5ad);\n            \n    \n            marker_cluster_1a7c09a397069616875a9f8ab2de5bf9.addTo(map_26fdf3838c70294730f316e1c0516fb9);\n        \n    \n            tile_layer_7396eabfc5a6bacfa5747466bb83f6d0.addTo(map_26fdf3838c70294730f316e1c0516fb9);\n        \n    \n                marker_de60caddccde2eb06fd2c967866ebc5a.setIcon(div_icon_9fdb104f8e019ae619a706c3566148fb);\n            \n    \n                marker_039513c56fe48adfd9e6bba1f70e3f23.setIcon(div_icon_23cb98c5568851415e9f49167d75cb36);\n            \n    \n                marker_6b49f69808b2e946beb11ec479219807.setIcon(div_icon_543454cf8bc9cc2bc80c59f26e9fe648);\n            \n    \n                marker_aae98f9341ded4a7ba88474f52f36b81.setIcon(div_icon_0bb11eaaca8ca4fc38a298aa59edb5ad);\n            \n    \n                marker_aae98f9341ded4a7ba88474f52f36b81.setIcon(div_icon_0bb11eaaca8ca4fc38a298aa59edb5ad);\n            \n    \n            marker_cluster_1a7c09a397069616875a9f8ab2de5bf9.addTo(map_26fdf3838c70294730f316e1c0516fb9);\n        \n    \n            var marker_8b131342066c2c990e1f35656d90ffff = L.marker(\n                [28.56230197, -80.57735648],\n                {\n}\n            ).addTo(marker_cluster_1a7c09a397069616875a9f8ab2de5bf9);\n        \n    \n            var icon_7d163f1c8dd1942b719ae24c365f3405 = L.AwesomeMarkers.icon(\n                {\n  &quot;markerColor&quot;: &quot;red&quot;,\n  &quot;iconColor&quot;: &quot;white&quot;,\n  &quot;icon&quot;: &quot;circle&quot;,\n  &quot;prefix&quot;: &quot;fa&quot;,\n  &quot;extraClasses&quot;: &quot;fa-rotate-0&quot;,\n}\n            );\n        \n    \n                marker_8b131342066c2c990e1f35656d90ffff.setIcon(icon_7d163f1c8dd1942b719ae24c365f3405);\n            \n    \n            var marker_a733a08085c75d2857114d8f887e3980 = L.marker(\n                [28.56230197, -80.57735648],\n                {\n}\n            ).addTo(marker_cluster_1a7c09a397069616875a9f8ab2de5bf9);\n        \n    \n            var icon_414f00208e5b7def48d902cb8dcd8ed1 = L.AwesomeMarkers.icon(\n                {\n  &quot;markerColor&quot;: &quot;red&quot;,\n  &quot;iconColor&quot;: &quot;white&quot;,\n  &quot;icon&quot;: &quot;circle&quot;,\n  &quot;prefix&quot;: &quot;fa&quot;,\n  &quot;extraClasses&quot;: &quot;fa-rotate-0&quot;,\n}\n            );\n        \n    \n                marker_a733a08085c75d2857114d8f887e3980.setIcon(icon_414f00208e5b7def48d902cb8dcd8ed1);\n            \n    \n            var marker_c199a24fdd187be421e33a9f266369fa = L.marker(\n                [28.56230197, -80.57735648],\n                {\n}\n            ).addTo(marker_cluster_1a7c09a397069616875a9f8ab2de5bf9);\n        \n    \n            var icon_992f67414a7e7264971cd4dc84b32fa5 = L.AwesomeMarkers.icon(\n                {\n  &quot;markerColor&quot;: &quot;red&quot;,\n  &quot;iconColor&quot;: &quot;white&quot;,\n  &quot;icon&quot;: &quot;circle&quot;,\n  &quot;prefix&quot;: &quot;fa&quot;,\n  &quot;extraClasses&quot;: &quot;fa-rotate-0&quot;,\n}\n            );\n        \n    \n                marker_c199a24fdd187be421e33a9f266369fa.setIcon(icon_992f67414a7e7264971cd4dc84b32fa5);\n            \n    \n            var marker_3d8b947832a6784d1659f48cb5c7e080 = L.marker(\n                [28.56230197, -80.57735648],\n                {\n}\n            ).addTo(marker_cluster_1a7c09a397069616875a9f8ab2de5bf9);\n        \n    \n            var icon_5ef3fff22a70eac48521950656a425de = L.AwesomeMarkers.icon(\n                {\n  &quot;markerColor&quot;: &quot;red&quot;,\n  &quot;iconColor&quot;: &quot;white&quot;,\n  &quot;icon&quot;: &quot;circle&quot;,\n  &quot;prefix&quot;: &quot;fa&quot;,\n  &quot;extraClasses&quot;: &quot;fa-rotate-0&quot;,\n}\n            );\n        \n    \n                marker_3d8b947832a6784d1659f48cb5c7e080.setIcon(icon_5ef3fff22a70eac48521950656a425de);\n            \n    \n            var marker_d486485353f7ffc3c8b6e52c5b4442d5 = L.marker(\n                [28.56230197, -80.57735648],\n                {\n}\n            ).addTo(marker_cluster_1a7c09a397069616875a9f8ab2de5bf9);\n        \n    \n            var icon_f5cad815dd82be99c4b9f2d5ee3c31b2 = L.AwesomeMarkers.icon(\n                {\n  &quot;markerColor&quot;: &quot;red&quot;,\n  &quot;iconColor&quot;: &quot;white&quot;,\n  &quot;icon&quot;: &quot;circle&quot;,\n  &quot;prefix&quot;: &quot;fa&quot;,\n  &quot;extraClasses&quot;: &quot;fa-rotate-0&quot;,\n}\n            );\n        \n    \n                marker_d486485353f7ffc3c8b6e52c5b4442d5.setIcon(icon_f5cad815dd82be99c4b9f2d5ee3c31b2);\n            \n    \n            var marker_bb61b4101b50cc9a3fe386d9800bbee4 = L.marker(\n                [28.56230197, -80.57735648],\n                {\n}\n            ).addTo(marker_cluster_1a7c09a397069616875a9f8ab2de5bf9);\n        \n    \n            var icon_d959e5c323622ff5fd08d72856517eec = L.AwesomeMarkers.icon(\n                {\n  &quot;markerColor&quot;: &quot;red&quot;,\n  &quot;iconColor&quot;: &quot;white&quot;,\n  &quot;icon&quot;: &quot;circle&quot;,\n  &quot;prefix&quot;: &quot;fa&quot;,\n  &quot;extraClasses&quot;: &quot;fa-rotate-0&quot;,\n}\n            );\n        \n    \n                marker_bb61b4101b50cc9a3fe386d9800bbee4.setIcon(icon_d959e5c323622ff5fd08d72856517eec);\n            \n    \n            var marker_046556e9a64ffc7cd0674e066c1da6ca = L.marker(\n                [28.56230197, -80.57735648],\n                {\n}\n            ).addTo(marker_cluster_1a7c09a397069616875a9f8ab2de5bf9);\n        \n    \n            var icon_06b8d65fca0645099be2f803c48ecf8f = L.AwesomeMarkers.icon(\n                {\n  &quot;markerColor&quot;: &quot;red&quot;,\n  &quot;iconColor&quot;: &quot;white&quot;,\n  &quot;icon&quot;: &quot;circle&quot;,\n  &quot;prefix&quot;: &quot;fa&quot;,\n  &quot;extraClasses&quot;: &quot;fa-rotate-0&quot;,\n}\n            );\n        \n    \n                marker_046556e9a64ffc7cd0674e066c1da6ca.setIcon(icon_06b8d65fca0645099be2f803c48ecf8f);\n            \n    \n            var marker_9c591098056801c70efde49eafce3dc3 = L.marker(\n                [28.56230197, -80.57735648],\n                {\n}\n            ).addTo(marker_cluster_1a7c09a397069616875a9f8ab2de5bf9);\n        \n    \n            var icon_b00f09faab55130c8df48b864bbecdfe = L.AwesomeMarkers.icon(\n                {\n  &quot;markerColor&quot;: &quot;red&quot;,\n  &quot;iconColor&quot;: &quot;white&quot;,\n  &quot;icon&quot;: &quot;circle&quot;,\n  &quot;prefix&quot;: &quot;fa&quot;,\n  &quot;extraClasses&quot;: &quot;fa-rotate-0&quot;,\n}\n            );\n        \n    \n                marker_9c591098056801c70efde49eafce3dc3.setIcon(icon_b00f09faab55130c8df48b864bbecdfe);\n            \n    \n            var marker_e9de8e4bd291ca40d26d13233f84c409 = L.marker(\n                [28.56230197, -80.57735648],\n                {\n}\n            ).addTo(marker_cluster_1a7c09a397069616875a9f8ab2de5bf9);\n        \n    \n            var icon_3b6e1579c06fe51ad3ee172d088f7b4d = L.AwesomeMarkers.icon(\n                {\n  &quot;markerColor&quot;: &quot;red&quot;,\n  &quot;iconColor&quot;: &quot;white&quot;,\n  &quot;icon&quot;: &quot;circle&quot;,\n  &quot;prefix&quot;: &quot;fa&quot;,\n  &quot;extraClasses&quot;: &quot;fa-rotate-0&quot;,\n}\n            );\n        \n    \n                marker_e9de8e4bd291ca40d26d13233f84c409.setIcon(icon_3b6e1579c06fe51ad3ee172d088f7b4d);\n            \n    \n            var marker_c3e47ab1248a6e1491229427e3ba8714 = L.marker(\n                [28.56230197, -80.57735648],\n                {\n}\n            ).addTo(marker_cluster_1a7c09a397069616875a9f8ab2de5bf9);\n        \n    \n            var icon_ea811d50de810eb1580835c3f4c400f1 = L.AwesomeMarkers.icon(\n                {\n  &quot;markerColor&quot;: &quot;red&quot;,\n  &quot;iconColor&quot;: &quot;white&quot;,\n  &quot;icon&quot;: &quot;circle&quot;,\n  &quot;prefix&quot;: &quot;fa&quot;,\n  &quot;extraClasses&quot;: &quot;fa-rotate-0&quot;,\n}\n            );\n        \n    \n                marker_c3e47ab1248a6e1491229427e3ba8714.setIcon(icon_ea811d50de810eb1580835c3f4c400f1);\n            \n    \n            var marker_785f6717934d38e98823c37fbfcc2c54 = L.marker(\n                [28.56230197, -80.57735648],\n                {\n}\n            ).addTo(marker_cluster_1a7c09a397069616875a9f8ab2de5bf9);\n        \n    \n            var icon_d269f8f2629648f75c88d55716f07449 = L.AwesomeMarkers.icon(\n                {\n  &quot;markerColor&quot;: &quot;red&quot;,\n  &quot;iconColor&quot;: &quot;white&quot;,\n  &quot;icon&quot;: &quot;circle&quot;,\n  &quot;prefix&quot;: &quot;fa&quot;,\n  &quot;extraClasses&quot;: &quot;fa-rotate-0&quot;,\n}\n            );\n        \n    \n                marker_785f6717934d38e98823c37fbfcc2c54.setIcon(icon_d269f8f2629648f75c88d55716f07449);\n            \n    \n            var marker_adcb1c184caf69a92a808fa3651a5202 = L.marker(\n                [28.56230197, -80.57735648],\n                {\n}\n            ).addTo(marker_cluster_1a7c09a397069616875a9f8ab2de5bf9);\n        \n    \n            var icon_8f3a7e4b9e1533d3d2edb459b9fa66eb = L.AwesomeMarkers.icon(\n                {\n  &quot;markerColor&quot;: &quot;red&quot;,\n  &quot;iconColor&quot;: &quot;white&quot;,\n  &quot;icon&quot;: &quot;circle&quot;,\n  &quot;prefix&quot;: &quot;fa&quot;,\n  &quot;extraClasses&quot;: &quot;fa-rotate-0&quot;,\n}\n            );\n        \n    \n                marker_adcb1c184caf69a92a808fa3651a5202.setIcon(icon_8f3a7e4b9e1533d3d2edb459b9fa66eb);\n            \n    \n            var marker_3b0bd388795438dcc6b331ec674e3835 = L.marker(\n                [28.56230197, -80.57735648],\n                {\n}\n            ).addTo(marker_cluster_1a7c09a397069616875a9f8ab2de5bf9);\n        \n    \n            var icon_468a8972b37d9ed161ed2897fa17cba2 = L.AwesomeMarkers.icon(\n                {\n  &quot;markerColor&quot;: &quot;red&quot;,\n  &quot;iconColor&quot;: &quot;white&quot;,\n  &quot;icon&quot;: &quot;circle&quot;,\n  &quot;prefix&quot;: &quot;fa&quot;,\n  &quot;extraClasses&quot;: &quot;fa-rotate-0&quot;,\n}\n            );\n        \n    \n                marker_3b0bd388795438dcc6b331ec674e3835.setIcon(icon_468a8972b37d9ed161ed2897fa17cba2);\n            \n    \n            var marker_1488d2551138a63678005da219d5b71a = L.marker(\n                [28.56230197, -80.57735648],\n                {\n}\n            ).addTo(marker_cluster_1a7c09a397069616875a9f8ab2de5bf9);\n        \n    \n            var icon_e26284ef85169964f15db2cef6327e67 = L.AwesomeMarkers.icon(\n                {\n  &quot;markerColor&quot;: &quot;red&quot;,\n  &quot;iconColor&quot;: &quot;white&quot;,\n  &quot;icon&quot;: &quot;circle&quot;,\n  &quot;prefix&quot;: &quot;fa&quot;,\n  &quot;extraClasses&quot;: &quot;fa-rotate-0&quot;,\n}\n            );\n        \n    \n                marker_1488d2551138a63678005da219d5b71a.setIcon(icon_e26284ef85169964f15db2cef6327e67);\n            \n    \n            var marker_c8f5bfbae6255db864c33b4f6ccb212a = L.marker(\n                [28.56230197, -80.57735648],\n                {\n}\n            ).addTo(marker_cluster_1a7c09a397069616875a9f8ab2de5bf9);\n        \n    \n            var icon_dc282ae3c41a83b91f4649e57af17149 = L.AwesomeMarkers.icon(\n                {\n  &quot;markerColor&quot;: &quot;red&quot;,\n  &quot;iconColor&quot;: &quot;white&quot;,\n  &quot;icon&quot;: &quot;circle&quot;,\n  &quot;prefix&quot;: &quot;fa&quot;,\n  &quot;extraClasses&quot;: &quot;fa-rotate-0&quot;,\n}\n            );\n        \n    \n                marker_c8f5bfbae6255db864c33b4f6ccb212a.setIcon(icon_dc282ae3c41a83b91f4649e57af17149);\n            \n    \n            var marker_4a3f3dff724912cfce9d159042b932c5 = L.marker(\n                [28.56230197, -80.57735648],\n                {\n}\n            ).addTo(marker_cluster_1a7c09a397069616875a9f8ab2de5bf9);\n        \n    \n            var icon_4ec6cbd5aa1d805087f916bad24665ae = L.AwesomeMarkers.icon(\n                {\n  &quot;markerColor&quot;: &quot;red&quot;,\n  &quot;iconColor&quot;: &quot;white&quot;,\n  &quot;icon&quot;: &quot;circle&quot;,\n  &quot;prefix&quot;: &quot;fa&quot;,\n  &quot;extraClasses&quot;: &quot;fa-rotate-0&quot;,\n}\n            );\n        \n    \n                marker_4a3f3dff724912cfce9d159042b932c5.setIcon(icon_4ec6cbd5aa1d805087f916bad24665ae);\n            \n    \n            var marker_6fffe4ca5053c1bf4a111ec5457453fc = L.marker(\n                [28.56230197, -80.57735648],\n                {\n}\n            ).addTo(marker_cluster_1a7c09a397069616875a9f8ab2de5bf9);\n        \n    \n            var icon_a14218068b48469592ac581ccac34070 = L.AwesomeMarkers.icon(\n                {\n  &quot;markerColor&quot;: &quot;red&quot;,\n  &quot;iconColor&quot;: &quot;white&quot;,\n  &quot;icon&quot;: &quot;circle&quot;,\n  &quot;prefix&quot;: &quot;fa&quot;,\n  &quot;extraClasses&quot;: &quot;fa-rotate-0&quot;,\n}\n            );\n        \n    \n                marker_6fffe4ca5053c1bf4a111ec5457453fc.setIcon(icon_a14218068b48469592ac581ccac34070);\n            \n    \n            var marker_470758152616efda3b0413c325ad2c78 = L.marker(\n                [28.56230197, -80.57735648],\n                {\n}\n            ).addTo(marker_cluster_1a7c09a397069616875a9f8ab2de5bf9);\n        \n    \n            var icon_5962ea685ea4d0e430a9f44a6f5a7a31 = L.AwesomeMarkers.icon(\n                {\n  &quot;markerColor&quot;: &quot;green&quot;,\n  &quot;iconColor&quot;: &quot;white&quot;,\n  &quot;icon&quot;: &quot;circle&quot;,\n  &quot;prefix&quot;: &quot;fa&quot;,\n  &quot;extraClasses&quot;: &quot;fa-rotate-0&quot;,\n}\n            );\n        \n    \n                marker_470758152616efda3b0413c325ad2c78.setIcon(icon_5962ea685ea4d0e430a9f44a6f5a7a31);\n            \n    \n            var marker_054ed2e602cfa1ab9e8caac8f9365ad8 = L.marker(\n                [28.56230197, -80.57735648],\n                {\n}\n            ).addTo(marker_cluster_1a7c09a397069616875a9f8ab2de5bf9);\n        \n    \n            var icon_ee26631bc13645646c86486142291d6a = L.AwesomeMarkers.icon(\n                {\n  &quot;markerColor&quot;: &quot;green&quot;,\n  &quot;iconColor&quot;: &quot;white&quot;,\n  &quot;icon&quot;: &quot;circle&quot;,\n  &quot;prefix&quot;: &quot;fa&quot;,\n  &quot;extraClasses&quot;: &quot;fa-rotate-0&quot;,\n}\n            );\n        \n    \n                marker_054ed2e602cfa1ab9e8caac8f9365ad8.setIcon(icon_ee26631bc13645646c86486142291d6a);\n            \n    \n            var marker_1e812dc7a06c664bbe01acd97bfbcdff = L.marker(\n                [28.56230197, -80.57735648],\n                {\n}\n            ).addTo(marker_cluster_1a7c09a397069616875a9f8ab2de5bf9);\n        \n    \n            var icon_13a893f4d79a7068a3598ce623b427d3 = L.AwesomeMarkers.icon(\n                {\n  &quot;markerColor&quot;: &quot;red&quot;,\n  &quot;iconColor&quot;: &quot;white&quot;,\n  &quot;icon&quot;: &quot;circle&quot;,\n  &quot;prefix&quot;: &quot;fa&quot;,\n  &quot;extraClasses&quot;: &quot;fa-rotate-0&quot;,\n}\n            );\n        \n    \n                marker_1e812dc7a06c664bbe01acd97bfbcdff.setIcon(icon_13a893f4d79a7068a3598ce623b427d3);\n            \n    \n            var marker_3cc5f0ffbf35c5f21ce533e001552ee5 = L.marker(\n                [28.56230197, -80.57735648],\n                {\n}\n            ).addTo(marker_cluster_1a7c09a397069616875a9f8ab2de5bf9);\n        \n    \n            var icon_cda4ea639ea538f4f1977759b9fa558c = L.AwesomeMarkers.icon(\n                {\n  &quot;markerColor&quot;: &quot;green&quot;,\n  &quot;iconColor&quot;: &quot;white&quot;,\n  &quot;icon&quot;: &quot;circle&quot;,\n  &quot;prefix&quot;: &quot;fa&quot;,\n  &quot;extraClasses&quot;: &quot;fa-rotate-0&quot;,\n}\n            );\n        \n    \n                marker_3cc5f0ffbf35c5f21ce533e001552ee5.setIcon(icon_cda4ea639ea538f4f1977759b9fa558c);\n            \n    \n            var marker_d0162701bb6b1f74bfcf015f3825fb70 = L.marker(\n                [28.56230197, -80.57735648],\n                {\n}\n            ).addTo(marker_cluster_1a7c09a397069616875a9f8ab2de5bf9);\n        \n    \n            var icon_9bc18a912fffd407aa95ca161a154bc0 = L.AwesomeMarkers.icon(\n                {\n  &quot;markerColor&quot;: &quot;green&quot;,\n  &quot;iconColor&quot;: &quot;white&quot;,\n  &quot;icon&quot;: &quot;circle&quot;,\n  &quot;prefix&quot;: &quot;fa&quot;,\n  &quot;extraClasses&quot;: &quot;fa-rotate-0&quot;,\n}\n            );\n        \n    \n                marker_d0162701bb6b1f74bfcf015f3825fb70.setIcon(icon_9bc18a912fffd407aa95ca161a154bc0);\n            \n    \n            var marker_9f877fcae18ef17676fd6c963de74e8f = L.marker(\n                [28.56230197, -80.57735648],\n                {\n}\n            ).addTo(marker_cluster_1a7c09a397069616875a9f8ab2de5bf9);\n        \n    \n            var icon_218cf1825d9a46c0ab3cde3299391e41 = L.AwesomeMarkers.icon(\n                {\n  &quot;markerColor&quot;: &quot;green&quot;,\n  &quot;iconColor&quot;: &quot;white&quot;,\n  &quot;icon&quot;: &quot;circle&quot;,\n  &quot;prefix&quot;: &quot;fa&quot;,\n  &quot;extraClasses&quot;: &quot;fa-rotate-0&quot;,\n}\n            );\n        \n    \n                marker_9f877fcae18ef17676fd6c963de74e8f.setIcon(icon_218cf1825d9a46c0ab3cde3299391e41);\n            \n    \n            var marker_4a74689e5cfe591fca9188ef2d80c44f = L.marker(\n                [28.56230197, -80.57735648],\n                {\n}\n            ).addTo(marker_cluster_1a7c09a397069616875a9f8ab2de5bf9);\n        \n    \n            var icon_0af0fa81e56ff343bb49a023cd00b73e = L.AwesomeMarkers.icon(\n                {\n  &quot;markerColor&quot;: &quot;red&quot;,\n  &quot;iconColor&quot;: &quot;white&quot;,\n  &quot;icon&quot;: &quot;circle&quot;,\n  &quot;prefix&quot;: &quot;fa&quot;,\n  &quot;extraClasses&quot;: &quot;fa-rotate-0&quot;,\n}\n            );\n        \n    \n                marker_4a74689e5cfe591fca9188ef2d80c44f.setIcon(icon_0af0fa81e56ff343bb49a023cd00b73e);\n            \n    \n            var marker_4496fcd6aba34c4e0d79ccf0433416be = L.marker(\n                [28.56230197, -80.57735648],\n                {\n}\n            ).addTo(marker_cluster_1a7c09a397069616875a9f8ab2de5bf9);\n        \n    \n            var icon_857dba48b4f0819b6cae26700bd59e37 = L.AwesomeMarkers.icon(\n                {\n  &quot;markerColor&quot;: &quot;green&quot;,\n  &quot;iconColor&quot;: &quot;white&quot;,\n  &quot;icon&quot;: &quot;circle&quot;,\n  &quot;prefix&quot;: &quot;fa&quot;,\n  &quot;extraClasses&quot;: &quot;fa-rotate-0&quot;,\n}\n            );\n        \n    \n                marker_4496fcd6aba34c4e0d79ccf0433416be.setIcon(icon_857dba48b4f0819b6cae26700bd59e37);\n            \n    \n            var marker_b4b3ad83fdd6e5450eedab4eaabe1fa7 = L.marker(\n                [28.56230197, -80.57735648],\n                {\n}\n            ).addTo(marker_cluster_1a7c09a397069616875a9f8ab2de5bf9);\n        \n    \n            var icon_bcf1dc14c597be229963f66427192591 = L.AwesomeMarkers.icon(\n                {\n  &quot;markerColor&quot;: &quot;green&quot;,\n  &quot;iconColor&quot;: &quot;white&quot;,\n  &quot;icon&quot;: &quot;circle&quot;,\n  &quot;prefix&quot;: &quot;fa&quot;,\n  &quot;extraClasses&quot;: &quot;fa-rotate-0&quot;,\n}\n            );\n        \n    \n                marker_b4b3ad83fdd6e5450eedab4eaabe1fa7.setIcon(icon_bcf1dc14c597be229963f66427192591);\n            \n    \n            var marker_d9ebbaddce5d93e84741bc6723de784e = L.marker(\n                [34.63283416, -120.6107455],\n                {\n}\n            ).addTo(marker_cluster_1a7c09a397069616875a9f8ab2de5bf9);\n        \n    \n            var icon_c6ca4c9ecc6625ddda9692413f1f8f5c = L.AwesomeMarkers.icon(\n                {\n  &quot;markerColor&quot;: &quot;red&quot;,\n  &quot;iconColor&quot;: &quot;white&quot;,\n  &quot;icon&quot;: &quot;circle&quot;,\n  &quot;prefix&quot;: &quot;fa&quot;,\n  &quot;extraClasses&quot;: &quot;fa-rotate-0&quot;,\n}\n            );\n        \n    \n                marker_d9ebbaddce5d93e84741bc6723de784e.setIcon(icon_c6ca4c9ecc6625ddda9692413f1f8f5c);\n            \n    \n            var marker_88fa7b18c4be4828c29c980551d5f864 = L.marker(\n                [34.63283416, -120.6107455],\n                {\n}\n            ).addTo(marker_cluster_1a7c09a397069616875a9f8ab2de5bf9);\n        \n    \n            var icon_5fd5c30296751e80c8e281c48c9613b3 = L.AwesomeMarkers.icon(\n                {\n  &quot;markerColor&quot;: &quot;red&quot;,\n  &quot;iconColor&quot;: &quot;white&quot;,\n  &quot;icon&quot;: &quot;circle&quot;,\n  &quot;prefix&quot;: &quot;fa&quot;,\n  &quot;extraClasses&quot;: &quot;fa-rotate-0&quot;,\n}\n            );\n        \n    \n                marker_88fa7b18c4be4828c29c980551d5f864.setIcon(icon_5fd5c30296751e80c8e281c48c9613b3);\n            \n    \n            var marker_51c0ea97f2642c95b1bf883c56de1fe4 = L.marker(\n                [34.63283416, -120.6107455],\n                {\n}\n            ).addTo(marker_cluster_1a7c09a397069616875a9f8ab2de5bf9);\n        \n    \n            var icon_d67511a598ed0bdcb6cdb7799d65bb84 = L.AwesomeMarkers.icon(\n                {\n  &quot;markerColor&quot;: &quot;green&quot;,\n  &quot;iconColor&quot;: &quot;white&quot;,\n  &quot;icon&quot;: &quot;circle&quot;,\n  &quot;prefix&quot;: &quot;fa&quot;,\n  &quot;extraClasses&quot;: &quot;fa-rotate-0&quot;,\n}\n            );\n        \n    \n                marker_51c0ea97f2642c95b1bf883c56de1fe4.setIcon(icon_d67511a598ed0bdcb6cdb7799d65bb84);\n            \n    \n            var marker_f445f47d398d23cd7bfcf5940926703e = L.marker(\n                [34.63283416, -120.6107455],\n                {\n}\n            ).addTo(marker_cluster_1a7c09a397069616875a9f8ab2de5bf9);\n        \n    \n            var icon_030e8669a47f5f02070f8297ba7c1ca1 = L.AwesomeMarkers.icon(\n                {\n  &quot;markerColor&quot;: &quot;green&quot;,\n  &quot;iconColor&quot;: &quot;white&quot;,\n  &quot;icon&quot;: &quot;circle&quot;,\n  &quot;prefix&quot;: &quot;fa&quot;,\n  &quot;extraClasses&quot;: &quot;fa-rotate-0&quot;,\n}\n            );\n        \n    \n                marker_f445f47d398d23cd7bfcf5940926703e.setIcon(icon_030e8669a47f5f02070f8297ba7c1ca1);\n            \n    \n            var marker_7a37169349c2bcd5a1047cffb838dec8 = L.marker(\n                [34.63283416, -120.6107455],\n                {\n}\n            ).addTo(marker_cluster_1a7c09a397069616875a9f8ab2de5bf9);\n        \n    \n            var icon_18246792a4d1f945a32db7905f4da215 = L.AwesomeMarkers.icon(\n                {\n  &quot;markerColor&quot;: &quot;green&quot;,\n  &quot;iconColor&quot;: &quot;white&quot;,\n  &quot;icon&quot;: &quot;circle&quot;,\n  &quot;prefix&quot;: &quot;fa&quot;,\n  &quot;extraClasses&quot;: &quot;fa-rotate-0&quot;,\n}\n            );\n        \n    \n                marker_7a37169349c2bcd5a1047cffb838dec8.setIcon(icon_18246792a4d1f945a32db7905f4da215);\n            \n    \n            var marker_44c4a27fa3cfcfeb727a1ebf5b2b443b = L.marker(\n                [34.63283416, -120.6107455],\n                {\n}\n            ).addTo(marker_cluster_1a7c09a397069616875a9f8ab2de5bf9);\n        \n    \n            var icon_a6e9c406c3036887fa605ece1b5c1cd2 = L.AwesomeMarkers.icon(\n                {\n  &quot;markerColor&quot;: &quot;green&quot;,\n  &quot;iconColor&quot;: &quot;white&quot;,\n  &quot;icon&quot;: &quot;circle&quot;,\n  &quot;prefix&quot;: &quot;fa&quot;,\n  &quot;extraClasses&quot;: &quot;fa-rotate-0&quot;,\n}\n            );\n        \n    \n                marker_44c4a27fa3cfcfeb727a1ebf5b2b443b.setIcon(icon_a6e9c406c3036887fa605ece1b5c1cd2);\n            \n    \n            var marker_b0635fe5a8e89553af3bfc4a85a3aff8 = L.marker(\n                [34.63283416, -120.6107455],\n                {\n}\n            ).addTo(marker_cluster_1a7c09a397069616875a9f8ab2de5bf9);\n        \n    \n            var icon_49fb5fbb088ee4d920674fc2d9bcd6e7 = L.AwesomeMarkers.icon(\n                {\n  &quot;markerColor&quot;: &quot;red&quot;,\n  &quot;iconColor&quot;: &quot;white&quot;,\n  &quot;icon&quot;: &quot;circle&quot;,\n  &quot;prefix&quot;: &quot;fa&quot;,\n  &quot;extraClasses&quot;: &quot;fa-rotate-0&quot;,\n}\n            );\n        \n    \n                marker_b0635fe5a8e89553af3bfc4a85a3aff8.setIcon(icon_49fb5fbb088ee4d920674fc2d9bcd6e7);\n            \n    \n            var marker_08e77cd86f91b7fc6ebe80aadae4fb84 = L.marker(\n                [34.63283416, -120.6107455],\n                {\n}\n            ).addTo(marker_cluster_1a7c09a397069616875a9f8ab2de5bf9);\n        \n    \n            var icon_377be089d88a02fb7ce01542336d1b49 = L.AwesomeMarkers.icon(\n                {\n  &quot;markerColor&quot;: &quot;red&quot;,\n  &quot;iconColor&quot;: &quot;white&quot;,\n  &quot;icon&quot;: &quot;circle&quot;,\n  &quot;prefix&quot;: &quot;fa&quot;,\n  &quot;extraClasses&quot;: &quot;fa-rotate-0&quot;,\n}\n            );\n        \n    \n                marker_08e77cd86f91b7fc6ebe80aadae4fb84.setIcon(icon_377be089d88a02fb7ce01542336d1b49);\n            \n    \n            var marker_1dee3919cf6bfa5736df14309f57e0ae = L.marker(\n                [34.63283416, -120.6107455],\n                {\n}\n            ).addTo(marker_cluster_1a7c09a397069616875a9f8ab2de5bf9);\n        \n    \n            var icon_042d916ebd24d6d620ac1f1add901ccf = L.AwesomeMarkers.icon(\n                {\n  &quot;markerColor&quot;: &quot;red&quot;,\n  &quot;iconColor&quot;: &quot;white&quot;,\n  &quot;icon&quot;: &quot;circle&quot;,\n  &quot;prefix&quot;: &quot;fa&quot;,\n  &quot;extraClasses&quot;: &quot;fa-rotate-0&quot;,\n}\n            );\n        \n    \n                marker_1dee3919cf6bfa5736df14309f57e0ae.setIcon(icon_042d916ebd24d6d620ac1f1add901ccf);\n            \n    \n            var marker_b78c391cbf9e93a54c4eecbc34f11e66 = L.marker(\n                [34.63283416, -120.6107455],\n                {\n}\n            ).addTo(marker_cluster_1a7c09a397069616875a9f8ab2de5bf9);\n        \n    \n            var icon_1ecd8058181f64a4498fb1418ae74fd5 = L.AwesomeMarkers.icon(\n                {\n  &quot;markerColor&quot;: &quot;red&quot;,\n  &quot;iconColor&quot;: &quot;white&quot;,\n  &quot;icon&quot;: &quot;circle&quot;,\n  &quot;prefix&quot;: &quot;fa&quot;,\n  &quot;extraClasses&quot;: &quot;fa-rotate-0&quot;,\n}\n            );\n        \n    \n                marker_b78c391cbf9e93a54c4eecbc34f11e66.setIcon(icon_1ecd8058181f64a4498fb1418ae74fd5);\n            \n    \n            var marker_f50b1d8bfea840eeba7f88b940429ad1 = L.marker(\n                [28.57325457, -80.64689529],\n                {\n}\n            ).addTo(marker_cluster_1a7c09a397069616875a9f8ab2de5bf9);\n        \n    \n            var icon_704ae76b8b80bb4e90a00e104fc45849 = L.AwesomeMarkers.icon(\n                {\n  &quot;markerColor&quot;: &quot;green&quot;,\n  &quot;iconColor&quot;: &quot;white&quot;,\n  &quot;icon&quot;: &quot;circle&quot;,\n  &quot;prefix&quot;: &quot;fa&quot;,\n  &quot;extraClasses&quot;: &quot;fa-rotate-0&quot;,\n}\n            );\n        \n    \n                marker_f50b1d8bfea840eeba7f88b940429ad1.setIcon(icon_704ae76b8b80bb4e90a00e104fc45849);\n            \n    \n            var marker_7376a31d0de90bff68ccae1876d04436 = L.marker(\n                [28.57325457, -80.64689529],\n                {\n}\n            ).addTo(marker_cluster_1a7c09a397069616875a9f8ab2de5bf9);\n        \n    \n            var icon_5e0e115bb1318391d177021acaac3f91 = L.AwesomeMarkers.icon(\n                {\n  &quot;markerColor&quot;: &quot;red&quot;,\n  &quot;iconColor&quot;: &quot;white&quot;,\n  &quot;icon&quot;: &quot;circle&quot;,\n  &quot;prefix&quot;: &quot;fa&quot;,\n  &quot;extraClasses&quot;: &quot;fa-rotate-0&quot;,\n}\n            );\n        \n    \n                marker_7376a31d0de90bff68ccae1876d04436.setIcon(icon_5e0e115bb1318391d177021acaac3f91);\n            \n    \n            var marker_ac7507bf74b43b4f00abd9c7978052e2 = L.marker(\n                [28.57325457, -80.64689529],\n                {\n}\n            ).addTo(marker_cluster_1a7c09a397069616875a9f8ab2de5bf9);\n        \n    \n            var icon_4e55f4cd5fb37307fa3a530cf551dc0d = L.AwesomeMarkers.icon(\n                {\n  &quot;markerColor&quot;: &quot;green&quot;,\n  &quot;iconColor&quot;: &quot;white&quot;,\n  &quot;icon&quot;: &quot;circle&quot;,\n  &quot;prefix&quot;: &quot;fa&quot;,\n  &quot;extraClasses&quot;: &quot;fa-rotate-0&quot;,\n}\n            );\n        \n    \n                marker_ac7507bf74b43b4f00abd9c7978052e2.setIcon(icon_4e55f4cd5fb37307fa3a530cf551dc0d);\n            \n    \n            var marker_38449d4fd015173b04f6e3e75e4636de = L.marker(\n                [28.57325457, -80.64689529],\n                {\n}\n            ).addTo(marker_cluster_1a7c09a397069616875a9f8ab2de5bf9);\n        \n    \n            var icon_a1b917569bed5ebe99324ab216c77c8e = L.AwesomeMarkers.icon(\n                {\n  &quot;markerColor&quot;: &quot;green&quot;,\n  &quot;iconColor&quot;: &quot;white&quot;,\n  &quot;icon&quot;: &quot;circle&quot;,\n  &quot;prefix&quot;: &quot;fa&quot;,\n  &quot;extraClasses&quot;: &quot;fa-rotate-0&quot;,\n}\n            );\n        \n    \n                marker_38449d4fd015173b04f6e3e75e4636de.setIcon(icon_a1b917569bed5ebe99324ab216c77c8e);\n            \n    \n            var marker_75c47204125cf333212fef5f0b16a1e4 = L.marker(\n                [28.57325457, -80.64689529],\n                {\n}\n            ).addTo(marker_cluster_1a7c09a397069616875a9f8ab2de5bf9);\n        \n    \n            var icon_000280cc7bbc65865f33693ae7808474 = L.AwesomeMarkers.icon(\n                {\n  &quot;markerColor&quot;: &quot;red&quot;,\n  &quot;iconColor&quot;: &quot;white&quot;,\n  &quot;icon&quot;: &quot;circle&quot;,\n  &quot;prefix&quot;: &quot;fa&quot;,\n  &quot;extraClasses&quot;: &quot;fa-rotate-0&quot;,\n}\n            );\n        \n    \n                marker_75c47204125cf333212fef5f0b16a1e4.setIcon(icon_000280cc7bbc65865f33693ae7808474);\n            \n    \n            var marker_1cc945e816b3d4823ff8ae7797b543aa = L.marker(\n                [28.57325457, -80.64689529],\n                {\n}\n            ).addTo(marker_cluster_1a7c09a397069616875a9f8ab2de5bf9);\n        \n    \n            var icon_b5445d36d00cf99940073b405229f777 = L.AwesomeMarkers.icon(\n                {\n  &quot;markerColor&quot;: &quot;green&quot;,\n  &quot;iconColor&quot;: &quot;white&quot;,\n  &quot;icon&quot;: &quot;circle&quot;,\n  &quot;prefix&quot;: &quot;fa&quot;,\n  &quot;extraClasses&quot;: &quot;fa-rotate-0&quot;,\n}\n            );\n        \n    \n                marker_1cc945e816b3d4823ff8ae7797b543aa.setIcon(icon_b5445d36d00cf99940073b405229f777);\n            \n    \n            var marker_7688c059e608e366fdba4f84bbd1c1c4 = L.marker(\n                [28.57325457, -80.64689529],\n                {\n}\n            ).addTo(marker_cluster_1a7c09a397069616875a9f8ab2de5bf9);\n        \n    \n            var icon_9e407e0c9406b6a4af691b41059afe81 = L.AwesomeMarkers.icon(\n                {\n  &quot;markerColor&quot;: &quot;green&quot;,\n  &quot;iconColor&quot;: &quot;white&quot;,\n  &quot;icon&quot;: &quot;circle&quot;,\n  &quot;prefix&quot;: &quot;fa&quot;,\n  &quot;extraClasses&quot;: &quot;fa-rotate-0&quot;,\n}\n            );\n        \n    \n                marker_7688c059e608e366fdba4f84bbd1c1c4.setIcon(icon_9e407e0c9406b6a4af691b41059afe81);\n            \n    \n            var marker_ca34a04c526e23e52a1b37d29f55ddfa = L.marker(\n                [28.57325457, -80.64689529],\n                {\n}\n            ).addTo(marker_cluster_1a7c09a397069616875a9f8ab2de5bf9);\n        \n    \n            var icon_7dc8c6ce156a18cdb764f720763fd5e9 = L.AwesomeMarkers.icon(\n                {\n  &quot;markerColor&quot;: &quot;red&quot;,\n  &quot;iconColor&quot;: &quot;white&quot;,\n  &quot;icon&quot;: &quot;circle&quot;,\n  &quot;prefix&quot;: &quot;fa&quot;,\n  &quot;extraClasses&quot;: &quot;fa-rotate-0&quot;,\n}\n            );\n        \n    \n                marker_ca34a04c526e23e52a1b37d29f55ddfa.setIcon(icon_7dc8c6ce156a18cdb764f720763fd5e9);\n            \n    \n            var marker_07ed0b24bbcea9e044b50b4ae83f9a94 = L.marker(\n                [28.57325457, -80.64689529],\n                {\n}\n            ).addTo(marker_cluster_1a7c09a397069616875a9f8ab2de5bf9);\n        \n    \n            var icon_6104aebb23c0eeab32d2ae4002ac78fb = L.AwesomeMarkers.icon(\n                {\n  &quot;markerColor&quot;: &quot;green&quot;,\n  &quot;iconColor&quot;: &quot;white&quot;,\n  &quot;icon&quot;: &quot;circle&quot;,\n  &quot;prefix&quot;: &quot;fa&quot;,\n  &quot;extraClasses&quot;: &quot;fa-rotate-0&quot;,\n}\n            );\n        \n    \n                marker_07ed0b24bbcea9e044b50b4ae83f9a94.setIcon(icon_6104aebb23c0eeab32d2ae4002ac78fb);\n            \n    \n            var marker_05b3846e6cb7b55bbbd2ae96195aae0c = L.marker(\n                [28.57325457, -80.64689529],\n                {\n}\n            ).addTo(marker_cluster_1a7c09a397069616875a9f8ab2de5bf9);\n        \n    \n            var icon_c69ba73495e8dce277fb9792f42cbf40 = L.AwesomeMarkers.icon(\n                {\n  &quot;markerColor&quot;: &quot;green&quot;,\n  &quot;iconColor&quot;: &quot;white&quot;,\n  &quot;icon&quot;: &quot;circle&quot;,\n  &quot;prefix&quot;: &quot;fa&quot;,\n  &quot;extraClasses&quot;: &quot;fa-rotate-0&quot;,\n}\n            );\n        \n    \n                marker_05b3846e6cb7b55bbbd2ae96195aae0c.setIcon(icon_c69ba73495e8dce277fb9792f42cbf40);\n            \n    \n            var marker_838cf234af6ed57ed7ec64f55659c8ef = L.marker(\n                [28.57325457, -80.64689529],\n                {\n}\n            ).addTo(marker_cluster_1a7c09a397069616875a9f8ab2de5bf9);\n        \n    \n            var icon_e6e71146599fa44022760940b9a34474 = L.AwesomeMarkers.icon(\n                {\n  &quot;markerColor&quot;: &quot;green&quot;,\n  &quot;iconColor&quot;: &quot;white&quot;,\n  &quot;icon&quot;: &quot;circle&quot;,\n  &quot;prefix&quot;: &quot;fa&quot;,\n  &quot;extraClasses&quot;: &quot;fa-rotate-0&quot;,\n}\n            );\n        \n    \n                marker_838cf234af6ed57ed7ec64f55659c8ef.setIcon(icon_e6e71146599fa44022760940b9a34474);\n            \n    \n            var marker_707f0a69a5ce02a94e2eca091f6dea45 = L.marker(\n                [28.57325457, -80.64689529],\n                {\n}\n            ).addTo(marker_cluster_1a7c09a397069616875a9f8ab2de5bf9);\n        \n    \n            var icon_579c5a832eac4c9e0f1b817ca6b14494 = L.AwesomeMarkers.icon(\n                {\n  &quot;markerColor&quot;: &quot;green&quot;,\n  &quot;iconColor&quot;: &quot;white&quot;,\n  &quot;icon&quot;: &quot;circle&quot;,\n  &quot;prefix&quot;: &quot;fa&quot;,\n  &quot;extraClasses&quot;: &quot;fa-rotate-0&quot;,\n}\n            );\n        \n    \n                marker_707f0a69a5ce02a94e2eca091f6dea45.setIcon(icon_579c5a832eac4c9e0f1b817ca6b14494);\n            \n    \n            var marker_d75ba2a1ce635b65665d2a7a0594df76 = L.marker(\n                [28.57325457, -80.64689529],\n                {\n}\n            ).addTo(marker_cluster_1a7c09a397069616875a9f8ab2de5bf9);\n        \n    \n            var icon_c9371654fd36007fb8c53a514ba9f057 = L.AwesomeMarkers.icon(\n                {\n  &quot;markerColor&quot;: &quot;green&quot;,\n  &quot;iconColor&quot;: &quot;white&quot;,\n  &quot;icon&quot;: &quot;circle&quot;,\n  &quot;prefix&quot;: &quot;fa&quot;,\n  &quot;extraClasses&quot;: &quot;fa-rotate-0&quot;,\n}\n            );\n        \n    \n                marker_d75ba2a1ce635b65665d2a7a0594df76.setIcon(icon_c9371654fd36007fb8c53a514ba9f057);\n            \n    \n            var marker_fbfea7659db08058924353d60f1011b5 = L.marker(\n                [28.56319718, -80.57682003],\n                {\n}\n            ).addTo(marker_cluster_1a7c09a397069616875a9f8ab2de5bf9);\n        \n    \n            var icon_2d2d3be77785e15dd330f98fb5fd52c2 = L.AwesomeMarkers.icon(\n                {\n  &quot;markerColor&quot;: &quot;green&quot;,\n  &quot;iconColor&quot;: &quot;white&quot;,\n  &quot;icon&quot;: &quot;circle&quot;,\n  &quot;prefix&quot;: &quot;fa&quot;,\n  &quot;extraClasses&quot;: &quot;fa-rotate-0&quot;,\n}\n            );\n        \n    \n                marker_fbfea7659db08058924353d60f1011b5.setIcon(icon_2d2d3be77785e15dd330f98fb5fd52c2);\n            \n    \n            var marker_c62a7b16f3f011079c9e11943a14b7ca = L.marker(\n                [28.56319718, -80.57682003],\n                {\n}\n            ).addTo(marker_cluster_1a7c09a397069616875a9f8ab2de5bf9);\n        \n    \n            var icon_ce74541bee6a4ebe27c182e85659c187 = L.AwesomeMarkers.icon(\n                {\n  &quot;markerColor&quot;: &quot;green&quot;,\n  &quot;iconColor&quot;: &quot;white&quot;,\n  &quot;icon&quot;: &quot;circle&quot;,\n  &quot;prefix&quot;: &quot;fa&quot;,\n  &quot;extraClasses&quot;: &quot;fa-rotate-0&quot;,\n}\n            );\n        \n    \n                marker_c62a7b16f3f011079c9e11943a14b7ca.setIcon(icon_ce74541bee6a4ebe27c182e85659c187);\n            \n    \n            var marker_cce9b16408525b3f7b2bab8b13e65f3a = L.marker(\n                [28.56319718, -80.57682003],\n                {\n}\n            ).addTo(marker_cluster_1a7c09a397069616875a9f8ab2de5bf9);\n        \n    \n            var icon_73077cd99a9d43345a98176faa33b84a = L.AwesomeMarkers.icon(\n                {\n  &quot;markerColor&quot;: &quot;red&quot;,\n  &quot;iconColor&quot;: &quot;white&quot;,\n  &quot;icon&quot;: &quot;circle&quot;,\n  &quot;prefix&quot;: &quot;fa&quot;,\n  &quot;extraClasses&quot;: &quot;fa-rotate-0&quot;,\n}\n            );\n        \n    \n                marker_cce9b16408525b3f7b2bab8b13e65f3a.setIcon(icon_73077cd99a9d43345a98176faa33b84a);\n            \n    \n            var marker_ba7ddc96682555e06968acda6464cb9c = L.marker(\n                [28.56319718, -80.57682003],\n                {\n}\n            ).addTo(marker_cluster_1a7c09a397069616875a9f8ab2de5bf9);\n        \n    \n            var icon_deb9349062cbc263be12c8b8f1b08f18 = L.AwesomeMarkers.icon(\n                {\n  &quot;markerColor&quot;: &quot;red&quot;,\n  &quot;iconColor&quot;: &quot;white&quot;,\n  &quot;icon&quot;: &quot;circle&quot;,\n  &quot;prefix&quot;: &quot;fa&quot;,\n  &quot;extraClasses&quot;: &quot;fa-rotate-0&quot;,\n}\n            );\n        \n    \n                marker_ba7ddc96682555e06968acda6464cb9c.setIcon(icon_deb9349062cbc263be12c8b8f1b08f18);\n            \n    \n            var marker_a05f2fd21d1862fc3b6fc61ebdbed607 = L.marker(\n                [28.56319718, -80.57682003],\n                {\n}\n            ).addTo(marker_cluster_1a7c09a397069616875a9f8ab2de5bf9);\n        \n    \n            var icon_6997f5cf568fd8e7a0a7be51fa79d876 = L.AwesomeMarkers.icon(\n                {\n  &quot;markerColor&quot;: &quot;red&quot;,\n  &quot;iconColor&quot;: &quot;white&quot;,\n  &quot;icon&quot;: &quot;circle&quot;,\n  &quot;prefix&quot;: &quot;fa&quot;,\n  &quot;extraClasses&quot;: &quot;fa-rotate-0&quot;,\n}\n            );\n        \n    \n                marker_a05f2fd21d1862fc3b6fc61ebdbed607.setIcon(icon_6997f5cf568fd8e7a0a7be51fa79d876);\n            \n    \n            var marker_861ea1314dd3203e0640befbebd0bfa8 = L.marker(\n                [28.56319718, -80.57682003],\n                {\n}\n            ).addTo(marker_cluster_1a7c09a397069616875a9f8ab2de5bf9);\n        \n    \n            var icon_e715ab6b9221dc93132cb25d3d6a0899 = L.AwesomeMarkers.icon(\n                {\n  &quot;markerColor&quot;: &quot;green&quot;,\n  &quot;iconColor&quot;: &quot;white&quot;,\n  &quot;icon&quot;: &quot;circle&quot;,\n  &quot;prefix&quot;: &quot;fa&quot;,\n  &quot;extraClasses&quot;: &quot;fa-rotate-0&quot;,\n}\n            );\n        \n    \n                marker_861ea1314dd3203e0640befbebd0bfa8.setIcon(icon_e715ab6b9221dc93132cb25d3d6a0899);\n            \n    \n            var marker_6a9d4e28ee776de113dc879c3cf5915c = L.marker(\n                [28.56319718, -80.57682003],\n                {\n}\n            ).addTo(marker_cluster_1a7c09a397069616875a9f8ab2de5bf9);\n        \n    \n            var icon_13b373d855cc7f61fe70d1205c6497ce = L.AwesomeMarkers.icon(\n                {\n  &quot;markerColor&quot;: &quot;red&quot;,\n  &quot;iconColor&quot;: &quot;white&quot;,\n  &quot;icon&quot;: &quot;circle&quot;,\n  &quot;prefix&quot;: &quot;fa&quot;,\n  &quot;extraClasses&quot;: &quot;fa-rotate-0&quot;,\n}\n            );\n        \n    \n                marker_6a9d4e28ee776de113dc879c3cf5915c.setIcon(icon_13b373d855cc7f61fe70d1205c6497ce);\n            \n&lt;/script&gt;\n&lt;/html&gt;\" style=\"position:absolute;width:100%;height:100%;left:0;top:0;border:none !important;\" allowfullscreen webkitallowfullscreen mozallowfullscreen></iframe></div></div>"
          },
          "metadata": {}
        }
      ],
      "execution_count": 27
    },
    {
      "cell_type": "markdown",
      "source": "Your updated map may look like the following screenshots:\n",
      "metadata": {}
    },
    {
      "cell_type": "markdown",
      "source": "<center>\n    <img src=\"https://cf-courses-data.s3.us.cloud-object-storage.appdomain.cloud/IBM-DS0321EN-SkillsNetwork/labs/module_3/images/launch_site_marker_cluster.png\">\n</center>\n",
      "metadata": {}
    },
    {
      "cell_type": "markdown",
      "source": "<center>\n    <img src=\"https://cf-courses-data.s3.us.cloud-object-storage.appdomain.cloud/IBM-DS0321EN-SkillsNetwork/labs/module_3/images/launch_site_marker_cluster_zoomed.png\">\n</center>\n",
      "metadata": {}
    },
    {
      "cell_type": "markdown",
      "source": "From the color-labeled markers in marker clusters, you should be able to easily identify which launch sites have relatively high success rates.\n",
      "metadata": {}
    },
    {
      "cell_type": "code",
      "source": "# TASK 3: Calculate the distances between a launch site to its proximities\n",
      "metadata": {},
      "outputs": [],
      "execution_count": null
    },
    {
      "cell_type": "markdown",
      "source": "Next, we need to explore and analyze the proximities of launch sites.\n",
      "metadata": {}
    },
    {
      "cell_type": "markdown",
      "source": "Let's first add a `MousePosition` on the map to get coordinate for a mouse over a point on the map. As such, while you are exploring the map, you can easily find the coordinates of any points of interests (such as railway)\n",
      "metadata": {}
    },
    {
      "cell_type": "code",
      "source": "# Add Mouse Position to get the coordinate (Lat, Long) for a mouse over on the map\nformatter = \"function(num) {return L.Util.formatNum(num, 5);};\"\nmouse_position = MousePosition(\n    position='topright',\n    separator=' Long: ',\n    empty_string='NaN',\n    lng_first=False,\n    num_digits=20,\n    prefix='Lat:',\n    lat_formatter=formatter,\n    lng_formatter=formatter,\n)\n\nsite_map.add_child(mouse_position)\nsite_map",
      "metadata": {},
      "outputs": [],
      "execution_count": null
    },
    {
      "cell_type": "markdown",
      "source": "Now zoom in to a launch site and explore its proximity to see if you can easily find any railway, highway, coastline, etc. Move your mouse to these points and mark down their coordinates (shown on the top-left) in order to the distance to the launch site.\n",
      "metadata": {}
    },
    {
      "cell_type": "markdown",
      "source": "Now zoom in to a launch site and explore its proximity to see if you can easily find any railway, highway, coastline, etc. Move your mouse to these points and mark down their coordinates (shown on the top-left) in order to the distance to the launch site.\n",
      "metadata": {}
    },
    {
      "cell_type": "code",
      "source": "from math import sin, cos, sqrt, atan2, radians\n\ndef calculate_distance(lat1, lon1, lat2, lon2):\n    # approximate radius of earth in km\n    R = 6373.0\n\n    lat1 = radians(lat1)\n    lon1 = radians(lon1)\n    lat2 = radians(lat2)\n    lon2 = radians(lon2)\n\n    dlon = lon2 - lon1\n    dlat = lat2 - lat1\n\n    a = sin(dlat / 2)**2 + cos(lat1) * cos(lat2) * sin(dlon / 2)**2\n    c = 2 * atan2(sqrt(a), sqrt(1 - a))\n\n    distance = R * c\n    return distance",
      "metadata": {},
      "outputs": [],
      "execution_count": null
    },
    {
      "cell_type": "markdown",
      "source": "*TODO:* Mark down a point on the closest coastline using MousePosition and calculate the distance between the coastline point and the launch site.\n",
      "metadata": {}
    },
    {
      "cell_type": "code",
      "source": "# find coordinate of the closet coastline\n# e.g.,: Lat: 28.56367  Lon: -80.57163\n# distance_coastline = calculate_distance(launch_site_lat, launch_site_lon, coastline_lat, coastline_lon)",
      "metadata": {},
      "outputs": [],
      "execution_count": null
    },
    {
      "cell_type": "code",
      "source": "# Create and add a folium.Marker on your selected closest coastline point on the map\n# Display the distance between coastline point and launch site using the icon property \n# for example\n# distance_marker = folium.Marker(\n#    coordinate,\n#    icon=DivIcon(\n#        icon_size=(20,20),\n#        icon_anchor=(0,0),\n#        html='<div style=\"font-size: 12; color:#d35400;\"><b>%s</b></div>' % \"{:10.2f} KM\".format(distance),\n#        )\n#    )",
      "metadata": {},
      "outputs": [],
      "execution_count": null
    },
    {
      "cell_type": "markdown",
      "source": "*TODO:* Draw a `PolyLine` between a launch site to the selected coastline point\n",
      "metadata": {}
    },
    {
      "cell_type": "code",
      "source": "# Create a `folium.PolyLine` object using the coastline coordinates and launch site coordinate\n# lines=folium.PolyLine(locations=coordinates, weight=1)\nsite_map.add_child(lines)",
      "metadata": {},
      "outputs": [],
      "execution_count": null
    },
    {
      "cell_type": "markdown",
      "source": "Your updated map with distance line should look like the following screenshot:\n",
      "metadata": {}
    },
    {
      "cell_type": "markdown",
      "source": "<center>\n    <img src=\"https://cf-courses-data.s3.us.cloud-object-storage.appdomain.cloud/IBM-DS0321EN-SkillsNetwork/labs/module_3/images/launch_site_marker_distance.png\">\n</center>\n",
      "metadata": {}
    },
    {
      "cell_type": "markdown",
      "source": "*TODO:* Similarly, you can draw a line betwee a launch site to its closest city, railway, highway, etc. You need to use `MousePosition` to find the their coordinates on the map first\n",
      "metadata": {}
    },
    {
      "cell_type": "markdown",
      "source": "A railway map symbol may look like this:\n",
      "metadata": {}
    },
    {
      "cell_type": "markdown",
      "source": "<center>\n    <img src=\"https://cf-courses-data.s3.us.cloud-object-storage.appdomain.cloud/IBM-DS0321EN-SkillsNetwork/labs/module_3/images/railway.png\">\n</center>\n",
      "metadata": {}
    },
    {
      "cell_type": "markdown",
      "source": "A highway map symbol may look like this:\n",
      "metadata": {}
    },
    {
      "cell_type": "markdown",
      "source": "<center>\n    <img src=\"https://cf-courses-data.s3.us.cloud-object-storage.appdomain.cloud/IBM-DS0321EN-SkillsNetwork/labs/module_3/images/highway.png\">\n</center>\n",
      "metadata": {}
    },
    {
      "cell_type": "markdown",
      "source": "A city map symbol may look like this:\n",
      "metadata": {}
    },
    {
      "cell_type": "markdown",
      "source": "<center>\n    <img src=\"https://cf-courses-data.s3.us.cloud-object-storage.appdomain.cloud/IBM-DS0321EN-SkillsNetwork/labs/module_3/images/city.png\">\n</center>\n",
      "metadata": {}
    },
    {
      "cell_type": "code",
      "source": "# Create a marker with distance to a closest city, railway, highway, etc.\n# Draw a line between the marker to the launch site\n",
      "metadata": {},
      "outputs": [],
      "execution_count": null
    },
    {
      "cell_type": "code",
      "source": "",
      "metadata": {},
      "outputs": [],
      "execution_count": null
    },
    {
      "cell_type": "code",
      "source": "",
      "metadata": {},
      "outputs": [],
      "execution_count": null
    },
    {
      "cell_type": "markdown",
      "source": "After you plot distance lines to the proximities, you can answer the following questions easily:\n\n*   Are launch sites in close proximity to railways?\n*   Are launch sites in close proximity to highways?\n*   Are launch sites in close proximity to coastline?\n*   Do launch sites keep certain distance away from cities?\n\nAlso please try to explain your findings.\n",
      "metadata": {}
    },
    {
      "cell_type": "markdown",
      "source": "# Next Steps:\n\nNow you have discovered many interesting insights related to the launch sites' location using folium, in a very interactive way. Next, you will need to build a dashboard using Ploty Dash on detailed launch records.\n",
      "metadata": {}
    },
    {
      "cell_type": "markdown",
      "source": "## Authors\n",
      "metadata": {}
    },
    {
      "cell_type": "markdown",
      "source": "[Pratiksha Verma](https://www.linkedin.com/in/pratiksha-verma-6487561b1/)\n",
      "metadata": {}
    },
    {
      "cell_type": "markdown",
      "source": "<!--## Change Log--!>\n",
      "metadata": {}
    },
    {
      "cell_type": "markdown",
      "source": "<!--| Date (YYYY-MM-DD) | Version | Changed By      | Change Description      |\n| ----------------- | ------- | -------------   | ----------------------- |\n| 2022-11-09        | 1.0     | Pratiksha Verma | Converted initial version to Jupyterlite|--!>\n",
      "metadata": {}
    },
    {
      "cell_type": "markdown",
      "source": "### <h3 align=\"center\"> IBM Corporation 2022. All rights reserved. <h3/>\n",
      "metadata": {}
    }
  ]
}